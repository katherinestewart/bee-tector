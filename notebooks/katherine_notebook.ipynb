{
 "cells": [
  {
   "cell_type": "markdown",
   "id": "9b67f7a0",
   "metadata": {},
   "source": [
    "# New baseline with 12?"
   ]
  },
  {
   "cell_type": "markdown",
   "id": "48492f3c",
   "metadata": {},
   "source": []
  }
 ],
 "metadata": {
  "language_info": {
   "name": "python"
  }
 },
 "nbformat": 4,
 "nbformat_minor": 5
}
