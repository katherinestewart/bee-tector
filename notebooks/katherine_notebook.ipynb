{
 "cells": [
  {
   "cell_type": "markdown",
   "id": "9b67f7a0",
   "metadata": {},
   "source": [
    "# New baseline with 12?"
   ]
  },
  {
   "cell_type": "code",
   "execution_count": 19,
   "id": "48492f3c",
   "metadata": {},
   "outputs": [],
   "source": [
    "from pathlib import Path\n",
    "import sys\n",
    "import os\n",
    "import numpy as np\n",
    "\n",
    "# Had to add this stuff to get notebook to find files, because it is not\n",
    "# located in the root folder\n",
    "ROOT = Path.cwd().parent\n",
    "sys.path.insert(0, str(ROOT))\n",
    "\n",
    "from keras import Sequential, Input, layers\n",
    "from keras.callbacks import EarlyStopping\n",
    "from keras.optimizers import Adam\n",
    "from keras import regularizers\n",
    "from keras.utils import load_img, img_to_array\n",
    "\n",
    "from bee_tector.plots import plot_history\n",
    "from bee_tector.data import (\n",
    "    load_datasets,\n",
    "    undersample_dataset,\n",
    "    load_selected_classes\n",
    ")\n",
    "from bee_tector.config import (\n",
    "    FULL_DATA_DIR,\n",
    "    CURATED_DATA_DIR,\n",
    "    MODELS_DIR,\n",
    "    IMAGE_SIZE\n",
    ")"
   ]
  },
  {
   "cell_type": "code",
   "execution_count": 4,
   "id": "77e40809",
   "metadata": {},
   "outputs": [
    {
     "name": "stdout",
     "output_type": "stream",
     "text": [
      "Found 3619 files belonging to 12 classes.\n",
      "Found 781 files belonging to 12 classes.\n",
      "Found 781 files belonging to 12 classes.\n"
     ]
    }
   ],
   "source": [
    "train_ds, val_ds, test_ds = load_datasets()"
   ]
  },
  {
   "cell_type": "code",
   "execution_count": 7,
   "id": "ad461853",
   "metadata": {},
   "outputs": [],
   "source": [
    "def initialize_model(shape=(224, 224, 3)):\n",
    "\n",
    "    model = Sequential()\n",
    "\n",
    "    model.add(Input(shape=shape))\n",
    "    model.add(layers.Rescaling(1./255))  # RESCALE!\n",
    "\n",
    "    model.add(layers.Conv2D(32, (4, 4), padding='same', activation='relu'))\n",
    "    model.add(layers.BatchNormalization())\n",
    "    model.add(layers.MaxPool2D(pool_size=(2,2)))\n",
    "\n",
    "    model.add(layers.Conv2D(128, (3, 3), padding='same', activation='relu'))\n",
    "    model.add(layers.BatchNormalization())\n",
    "    model.add(layers.MaxPool2D(pool_size=(2, 2)))\n",
    "\n",
    "    model.add(layers.Conv2D(256, (3, 3), padding='same', activation='relu'))\n",
    "    model.add(layers.BatchNormalization())\n",
    "    model.add(layers.MaxPool2D(pool_size=(2, 2)))\n",
    "\n",
    "    model.add(layers.Flatten())\n",
    "    # I don't really know what this does but you can do this instead of\n",
    "    # flattening I think\n",
    "    # model.add(layers.GlobalAveragePooling2D())\n",
    "\n",
    "    reg = regularizers.l2(1e-5)\n",
    "    model.add(layers.Dense(128, activation='relu', kernel_regularizer=reg))\n",
    "    model.add(layers.Dropout(0.2))\n",
    "    model.add(layers.Dense(32, activation='relu', kernel_regularizer=reg))\n",
    "    model.add(layers.Dropout(0.2))\n",
    "\n",
    "    model.add(layers.Dense(12, activation='softmax'))\n",
    "\n",
    "    model.compile(\n",
    "        loss='sparse_categorical_crossentropy',\n",
    "        optimizer=Adam(learning_rate=1e-4),\n",
    "        metrics=['accuracy']\n",
    "    )\n",
    "\n",
    "    return model\n"
   ]
  },
  {
   "cell_type": "code",
   "execution_count": 8,
   "id": "90e8fea9",
   "metadata": {},
   "outputs": [
    {
     "name": "stdout",
     "output_type": "stream",
     "text": [
      "Epoch 1/1000\n",
      "\u001b[1m114/114\u001b[0m \u001b[32m━━━━━━━━━━━━━━━━━━━━\u001b[0m\u001b[37m\u001b[0m \u001b[1m83s\u001b[0m 716ms/step - accuracy: 0.0989 - loss: 3.2191 - val_accuracy: 0.0960 - val_loss: 24.9473\n",
      "Epoch 2/1000\n",
      "\u001b[1m114/114\u001b[0m \u001b[32m━━━━━━━━━━━━━━━━━━━━\u001b[0m\u001b[37m\u001b[0m \u001b[1m80s\u001b[0m 704ms/step - accuracy: 0.1213 - loss: 2.8301 - val_accuracy: 0.1536 - val_loss: 8.8309\n",
      "Epoch 3/1000\n",
      "\u001b[1m114/114\u001b[0m \u001b[32m━━━━━━━━━━━━━━━━━━━━\u001b[0m\u001b[37m\u001b[0m \u001b[1m81s\u001b[0m 707ms/step - accuracy: 0.1456 - loss: 2.7529 - val_accuracy: 0.1191 - val_loss: 2.5923\n",
      "Epoch 4/1000\n",
      "\u001b[1m114/114\u001b[0m \u001b[32m━━━━━━━━━━━━━━━━━━━━\u001b[0m\u001b[37m\u001b[0m \u001b[1m81s\u001b[0m 711ms/step - accuracy: 0.1523 - loss: 2.5204 - val_accuracy: 0.1601 - val_loss: 2.4319\n",
      "Epoch 5/1000\n",
      "\u001b[1m114/114\u001b[0m \u001b[32m━━━━━━━━━━━━━━━━━━━━\u001b[0m\u001b[37m\u001b[0m \u001b[1m81s\u001b[0m 708ms/step - accuracy: 0.1697 - loss: 2.4208 - val_accuracy: 0.1805 - val_loss: 2.4100\n",
      "Epoch 6/1000\n",
      "\u001b[1m114/114\u001b[0m \u001b[32m━━━━━━━━━━━━━━━━━━━━\u001b[0m\u001b[37m\u001b[0m \u001b[1m82s\u001b[0m 716ms/step - accuracy: 0.1865 - loss: 2.3687 - val_accuracy: 0.1933 - val_loss: 2.4238\n",
      "Epoch 7/1000\n",
      "\u001b[1m114/114\u001b[0m \u001b[32m━━━━━━━━━━━━━━━━━━━━\u001b[0m\u001b[37m\u001b[0m \u001b[1m83s\u001b[0m 731ms/step - accuracy: 0.2213 - loss: 2.2858 - val_accuracy: 0.2177 - val_loss: 2.4009\n",
      "Epoch 8/1000\n",
      "\u001b[1m114/114\u001b[0m \u001b[32m━━━━━━━━━━━━━━━━━━━━\u001b[0m\u001b[37m\u001b[0m \u001b[1m81s\u001b[0m 707ms/step - accuracy: 0.2222 - loss: 2.2326 - val_accuracy: 0.2023 - val_loss: 2.4541\n",
      "Epoch 9/1000\n",
      "\u001b[1m114/114\u001b[0m \u001b[32m━━━━━━━━━━━━━━━━━━━━\u001b[0m\u001b[37m\u001b[0m \u001b[1m81s\u001b[0m 715ms/step - accuracy: 0.2481 - loss: 2.1813 - val_accuracy: 0.1921 - val_loss: 2.4402\n",
      "Epoch 10/1000\n",
      "\u001b[1m114/114\u001b[0m \u001b[32m━━━━━━━━━━━━━━━━━━━━\u001b[0m\u001b[37m\u001b[0m \u001b[1m81s\u001b[0m 714ms/step - accuracy: 0.2636 - loss: 2.1138 - val_accuracy: 0.2215 - val_loss: 2.3538\n",
      "Epoch 11/1000\n",
      "\u001b[1m114/114\u001b[0m \u001b[32m━━━━━━━━━━━━━━━━━━━━\u001b[0m\u001b[37m\u001b[0m \u001b[1m81s\u001b[0m 713ms/step - accuracy: 0.2868 - loss: 2.0261 - val_accuracy: 0.2087 - val_loss: 2.4264\n",
      "Epoch 12/1000\n",
      "\u001b[1m114/114\u001b[0m \u001b[32m━━━━━━━━━━━━━━━━━━━━\u001b[0m\u001b[37m\u001b[0m \u001b[1m81s\u001b[0m 715ms/step - accuracy: 0.3114 - loss: 1.9396 - val_accuracy: 0.2202 - val_loss: 2.4185\n",
      "Epoch 13/1000\n",
      "\u001b[1m114/114\u001b[0m \u001b[32m━━━━━━━━━━━━━━━━━━━━\u001b[0m\u001b[37m\u001b[0m \u001b[1m81s\u001b[0m 715ms/step - accuracy: 0.3128 - loss: 1.9006 - val_accuracy: 0.2394 - val_loss: 2.3929\n",
      "Epoch 14/1000\n",
      "\u001b[1m114/114\u001b[0m \u001b[32m━━━━━━━━━━━━━━━━━━━━\u001b[0m\u001b[37m\u001b[0m \u001b[1m81s\u001b[0m 713ms/step - accuracy: 0.3382 - loss: 1.8463 - val_accuracy: 0.2215 - val_loss: 2.3797\n",
      "Epoch 15/1000\n",
      "\u001b[1m114/114\u001b[0m \u001b[32m━━━━━━━━━━━━━━━━━━━━\u001b[0m\u001b[37m\u001b[0m \u001b[1m83s\u001b[0m 732ms/step - accuracy: 0.3653 - loss: 1.7668 - val_accuracy: 0.2305 - val_loss: 2.4160\n",
      "Epoch 16/1000\n",
      "\u001b[1m114/114\u001b[0m \u001b[32m━━━━━━━━━━━━━━━━━━━━\u001b[0m\u001b[37m\u001b[0m \u001b[1m83s\u001b[0m 725ms/step - accuracy: 0.3772 - loss: 1.7390 - val_accuracy: 0.2356 - val_loss: 2.4631\n",
      "Epoch 17/1000\n",
      "\u001b[1m114/114\u001b[0m \u001b[32m━━━━━━━━━━━━━━━━━━━━\u001b[0m\u001b[37m\u001b[0m \u001b[1m82s\u001b[0m 722ms/step - accuracy: 0.4034 - loss: 1.6459 - val_accuracy: 0.2318 - val_loss: 2.4427\n",
      "Epoch 18/1000\n",
      "\u001b[1m114/114\u001b[0m \u001b[32m━━━━━━━━━━━━━━━━━━━━\u001b[0m\u001b[37m\u001b[0m \u001b[1m82s\u001b[0m 720ms/step - accuracy: 0.4120 - loss: 1.6173 - val_accuracy: 0.2625 - val_loss: 2.4473\n",
      "Epoch 19/1000\n",
      "\u001b[1m114/114\u001b[0m \u001b[32m━━━━━━━━━━━━━━━━━━━━\u001b[0m\u001b[37m\u001b[0m \u001b[1m82s\u001b[0m 718ms/step - accuracy: 0.4264 - loss: 1.5642 - val_accuracy: 0.2292 - val_loss: 2.4317\n",
      "Epoch 20/1000\n",
      "\u001b[1m114/114\u001b[0m \u001b[32m━━━━━━━━━━━━━━━━━━━━\u001b[0m\u001b[37m\u001b[0m \u001b[1m81s\u001b[0m 711ms/step - accuracy: 0.4291 - loss: 1.5568 - val_accuracy: 0.2177 - val_loss: 2.4359\n"
     ]
    }
   ],
   "source": [
    "baseline_model = initialize_model()\n",
    "\n",
    "es = EarlyStopping(monitor='val_loss', patience=10, restore_best_weights=True)\n",
    "\n",
    "history = baseline_model.fit(\n",
    "    train_ds,\n",
    "    epochs=1000,\n",
    "    validation_data=val_ds,\n",
    "    callbacks=[es],\n",
    "    verbose=1\n",
    ")"
   ]
  },
  {
   "cell_type": "code",
   "execution_count": 9,
   "id": "bf25187e",
   "metadata": {},
   "outputs": [
    {
     "name": "stdout",
     "output_type": "stream",
     "text": [
      "\u001b[1m25/25\u001b[0m \u001b[32m━━━━━━━━━━━━━━━━━━━━\u001b[0m\u001b[37m\u001b[0m \u001b[1m4s\u001b[0m 153ms/step - accuracy: 0.2215 - loss: 2.3538\n",
      "Validation loss: 2.3538, Validation accuracy: 0.2215\n",
      "\u001b[1m25/25\u001b[0m \u001b[32m━━━━━━━━━━━━━━━━━━━━\u001b[0m\u001b[37m\u001b[0m \u001b[1m4s\u001b[0m 150ms/step - accuracy: 0.2010 - loss: 2.3819\n",
      "Test loss: 2.3819, Test accuracy: 0.2010\n"
     ]
    }
   ],
   "source": [
    "val_loss, val_acc = baseline_model.evaluate(val_ds)\n",
    "print(f\"Validation loss: {val_loss:.4f}, Validation accuracy: {val_acc:.4f}\")\n",
    "\n",
    "test_loss, test_acc = baseline_model.evaluate(test_ds)\n",
    "print(f\"Test loss: {test_loss:.4f}, Test accuracy: {test_acc:.4f}\")"
   ]
  },
  {
   "cell_type": "code",
   "execution_count": 10,
   "id": "9c178b90",
   "metadata": {},
   "outputs": [
    {
     "data": {
      "image/png": "[encoded data removed]",
      "text/plain": [
       "<Figure size 1500x500 with 2 Axes>"
      ]
     },
     "metadata": {},
     "output_type": "display_data"
    }
   ],
   "source": [
    "plot_history(history)"
   ]
  },
  {
   "cell_type": "code",
   "execution_count": null,
   "id": "ff9e06d1",
   "metadata": {},
   "outputs": [],
   "source": [
    "# baseline_model.save(f\"{MODELS_DIR}/baseline_model.keras\")"
   ]
  },
  {
   "cell_type": "markdown",
   "id": "2fb2058f",
   "metadata": {},
   "source": [
    "# Predict"
   ]
  },
  {
   "cell_type": "code",
   "execution_count": null,
   "id": "eb6f3376",
   "metadata": {},
   "outputs": [],
   "source": [
    "img_path = os.path.join(\n",
    "    FULL_DATA_DIR, \"test\", \"Red-tailed_Bumble_Bee\", \"535031756.jpg\"\n",
    ")\n",
    "\n",
    "img = load_img(img_path, target_size=IMAGE_SIZE)\n",
    "\n",
    "img_array = img_to_array(img)\n",
    "\n",
    "# We now have an array (224, 224, 3)\n",
    "# Batch size is 1 for 1 image, our model accepts (batch_size, 224, 224, 3)\n",
    "img_array = np.expand_dims(img_array, axis=0)\n"
   ]
  },
  {
   "cell_type": "code",
   "execution_count": 21,
   "id": "46458da8",
   "metadata": {},
   "outputs": [
    {
     "name": "stdout",
     "output_type": "stream",
     "text": [
      "\u001b[1m1/1\u001b[0m \u001b[32m━━━━━━━━━━━━━━━━━━━━\u001b[0m\u001b[37m\u001b[0m \u001b[1m0s\u001b[0m 69ms/step\n"
     ]
    }
   ],
   "source": [
    "pred = baseline_model.predict(img_array)"
   ]
  },
  {
   "cell_type": "code",
   "execution_count": null,
   "id": "2f307275",
   "metadata": {},
   "outputs": [
    {
     "data": {
      "text/plain": [
       "array([[0.0618692 , 0.12679347, 0.09051337, 0.11306442, 0.12979054,\n",
       "        0.06030054, 0.07622439, 0.09393378, 0.04390454, 0.03508817,\n",
       "        0.06704979, 0.10146785]], dtype=float32)"
      ]
     },
     "execution_count": 22,
     "metadata": {},
     "output_type": "execute_result"
    }
   ],
   "source": [
    "# Probability distribution across 12 classes\n",
    "pred"
   ]
  },
  {
   "cell_type": "code",
   "execution_count": 24,
   "id": "ddcafa24",
   "metadata": {},
   "outputs": [
    {
     "data": {
      "text/plain": [
       "array([4])"
      ]
     },
     "execution_count": 24,
     "metadata": {},
     "output_type": "execute_result"
    }
   ],
   "source": [
    "# We need the maximum value:\n",
    "prediction = np.argmax(pred, axis=1)\n",
    "prediction"
   ]
  },
  {
   "cell_type": "code",
   "execution_count": 25,
   "id": "1a54f39b",
   "metadata": {},
   "outputs": [
    {
     "name": "stdout",
     "output_type": "stream",
     "text": [
      "Found 3619 files belonging to 12 classes.\n",
      "Found 781 files belonging to 12 classes.\n",
      "Found 781 files belonging to 12 classes.\n"
     ]
    }
   ],
   "source": [
    "train_cn, val_cn, test_cn = load_datasets()\n",
    "\n",
    "class_names = train_cn.class_names\n",
    "id_to_class = {i: name for i, name in enumerate(class_names)}"
   ]
  },
  {
   "cell_type": "code",
   "execution_count": 26,
   "id": "b978d500",
   "metadata": {},
   "outputs": [
    {
     "data": {
      "text/plain": [
       "{0: 'American_Bumble_Bee',\n",
       " 1: 'Brown-belted_Bumble_Bee',\n",
       " 2: 'Buff-tailed_Bumble_Bee',\n",
       " 3: 'Common_Carder_Bumble_Bee',\n",
       " 4: 'Common_Eastern_Bumble_Bee',\n",
       " 5: 'Half-black_Bumble_Bee',\n",
       " 6: 'Red-belted_Bumble_Bee',\n",
       " 7: 'Red-tailed_Bumble_Bee',\n",
       " 8: 'Tricolored_Bumble_Bee',\n",
       " 9: 'Two-spotted_Bumble_Bee',\n",
       " 10: 'White-tailed_Bumble_Bee',\n",
       " 11: 'Yellow-faced_Bumble_Bee'}"
      ]
     },
     "execution_count": 26,
     "metadata": {},
     "output_type": "execute_result"
    }
   ],
   "source": [
    "id_to_class"
   ]
  },
  {
   "cell_type": "code",
   "execution_count": 30,
   "id": "c6f38eb6",
   "metadata": {},
   "outputs": [
    {
     "name": "stdout",
     "output_type": "stream",
     "text": [
      "Predicted class: Common_Eastern_Bumble_Bee\n"
     ]
    }
   ],
   "source": [
    "print(\"Predicted class:\", id_to_class[prediction[0]])"
   ]
  },
  {
   "cell_type": "code",
   "execution_count": null,
   "id": "38a20f41",
   "metadata": {},
   "outputs": [],
   "source": [
    "# TODO edit shape=IMAGE_SIZE + (3,) for future models."
   ]
  },
  {
   "cell_type": "markdown",
   "id": "2fb2058f",
   "metadata": {},
   "source": [
    "# "
   ]
  }
 ],
 "metadata": {
  "kernelspec": {
   "display_name": "bee-tector",
   "language": "python",
   "name": "python3"
  },
  "language_info": {
   "codemirror_mode": {
    "name": "ipython",
    "version": 3
   },
   "file_extension": ".py",
   "mimetype": "text/x-python",
   "name": "python",
   "nbconvert_exporter": "python",
   "pygments_lexer": "ipython3",
   "version": "3.10.6"
  }
 },
 "nbformat": 4,
 "nbformat_minor": 5
}
