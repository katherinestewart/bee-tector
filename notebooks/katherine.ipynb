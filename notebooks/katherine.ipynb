{
 "cells": [
  {
   "cell_type": "markdown",
   "id": "9b67f7a0",
   "metadata": {},
   "source": [
    "# New baseline with 12?"
   ]
  },
  {
   "cell_type": "code",
   "execution_count": 23,
   "id": "48492f3c",
   "metadata": {},
   "outputs": [],
   "source": [
    "from pathlib import Path\n",
    "import sys\n",
    "import os\n",
    "import numpy as np\n",
    "import pandas as pd\n",
    "import matplotlib.pyplot as plt\n",
    "\n",
    "# Had to add this stuff to get notebook to find files, because it is not\n",
    "# located in the root folder\n",
    "ROOT = Path.cwd().parent\n",
    "sys.path.insert(0, str(ROOT))\n",
    "\n",
    "from tensorflow.keras import Sequential, Input, layers\n",
    "from tensorflow.keras.callbacks import EarlyStopping\n",
    "from tensorflow.keras.optimizers import Adam\n",
    "from tensorflow.keras import regularizers\n",
    "from tensorflow.keras.utils import load_img, img_to_array\n",
    "from tensorflow.keras.models import load_model\n",
    "\n",
    "from bee_tector.config import (\n",
    "    PROJECT_ROOT,\n",
    "    SUBSPECIES_CLASS_NAMES,\n",
    "    SUBSPECIES_COUNTRIES_CSV,\n",
    "    SUBSPECIES_DATA_DIR,\n",
    "    SUBSPECIES_HIGH_CONF_THRESHOLD,\n",
    "    SUBSPECIES_MODEL_PATH,\n",
    "    DETECTOR_CLASS_NAMES,\n",
    "    DETECTOR_DATA_DIR,\n",
    "    DETECTOR_MODEL_PATH,\n",
    "    IMAGE_SIZE,\n",
    "    MODELS_DIR,\n",
    "    BEES_CSV_PATH\n",
    ")\n",
    "from bee_tector.plots import plot_history\n",
    "from bee_tector.data import (\n",
    "    load_datasets\n",
    ")\n",
    "from bee_tector.pipeline import preprocess_image, predict_detector, predict_subspecies\n",
    "from api.predict import load_best_model, preprocess_image, predict, load_first_layer_model, predict_first_layer"
   ]
  },
  {
   "cell_type": "code",
   "execution_count": 2,
   "id": "77e40809",
   "metadata": {},
   "outputs": [
    {
     "name": "stdout",
     "output_type": "stream",
     "text": [
      "Found 3619 files belonging to 12 classes.\n",
      "Found 781 files belonging to 12 classes.\n",
      "Found 781 files belonging to 12 classes.\n"
     ]
    }
   ],
   "source": [
    "train_ds, val_ds, test_ds = load_datasets()"
   ]
  },
  {
   "cell_type": "code",
   "execution_count": 2,
   "id": "aa141be2",
   "metadata": {},
   "outputs": [],
   "source": [
    "# TODO edit shape=IMAGE_SIZE + (3,) for future models."
   ]
  },
  {
   "cell_type": "code",
   "execution_count": 16,
   "id": "f18723d6",
   "metadata": {},
   "outputs": [],
   "source": [
    "img_path = os.path.join(\n",
    "    FULL_DATA_DIR, \"test\", \"Red-tailed_Bumble_bee\", \"535031756.jpg\"\n",
    ")\n",
    "\n",
    "img = load_img(img_path, target_size=IMAGE_SIZE)\n",
    "\n",
    "img_array = img_to_array(img)\n",
    "\n",
    "# We now have an array (224, 224, 3)\n",
    "# Batch size is 1 for 1 image, our model accepts (batch_size, 224, 224, 3)\n",
    "img_array = np.expand_dims(img_array, axis=0)"
   ]
  },
  {
   "cell_type": "code",
   "execution_count": 20,
   "id": "84169be6",
   "metadata": {},
   "outputs": [],
   "source": [
    "baseline_model = load_model(MODELS_DIR / \"baseline_model.keras\")"
   ]
  },
  {
   "cell_type": "code",
   "execution_count": 21,
   "id": "8c6c09a8",
   "metadata": {},
   "outputs": [
    {
     "name": "stdout",
     "output_type": "stream",
     "text": [
      "\u001b[1m1/1\u001b[0m \u001b[32m━━━━━━━━━━━━━━━━━━━━\u001b[0m\u001b[37m\u001b[0m \u001b[1m0s\u001b[0m 70ms/step\n"
     ]
    }
   ],
   "source": [
    "pred = baseline_model.predict(img_array)"
   ]
  },
  {
   "cell_type": "code",
   "execution_count": 22,
   "id": "291f376a",
   "metadata": {},
   "outputs": [
    {
     "data": {
      "text/plain": [
       "array([[0.0618692 , 0.12679347, 0.09051337, 0.11306442, 0.12979054,\n",
       "        0.06030054, 0.07622439, 0.09393378, 0.04390454, 0.03508817,\n",
       "        0.06704979, 0.10146785]], dtype=float32)"
      ]
     },
     "execution_count": 22,
     "metadata": {},
     "output_type": "execute_result"
    }
   ],
   "source": [
    "pred"
   ]
  },
  {
   "cell_type": "code",
   "execution_count": 23,
   "id": "cb2c577d",
   "metadata": {},
   "outputs": [],
   "source": [
    "prediction = np.argmax(pred, axis=1)"
   ]
  },
  {
   "cell_type": "code",
   "execution_count": 24,
   "id": "a2f5a06f",
   "metadata": {},
   "outputs": [
    {
     "data": {
      "text/plain": [
       "array([4])"
      ]
     },
     "execution_count": 24,
     "metadata": {},
     "output_type": "execute_result"
    }
   ],
   "source": [
    "prediction"
   ]
  },
  {
   "cell_type": "code",
   "execution_count": 25,
   "id": "42b72605",
   "metadata": {},
   "outputs": [
    {
     "name": "stdout",
     "output_type": "stream",
     "text": [
      "Found 3619 files belonging to 12 classes.\n",
      "Found 781 files belonging to 12 classes.\n",
      "Found 781 files belonging to 12 classes.\n"
     ]
    }
   ],
   "source": [
    "train_cn, val_cn, test_cn = load_datasets()"
   ]
  },
  {
   "cell_type": "markdown",
   "id": "2fb2058f",
   "metadata": {},
   "source": [
    "# "
   ]
  },
  {
   "cell_type": "code",
   "execution_count": 26,
   "id": "554bf584",
   "metadata": {},
   "outputs": [],
   "source": [
    "class_names = train_cn.class_names\n",
    "id_to_class = {i: name for i, name in enumerate(class_names)}"
   ]
  },
  {
   "cell_type": "code",
   "execution_count": 27,
   "id": "67893d22",
   "metadata": {},
   "outputs": [
    {
     "name": "stdout",
     "output_type": "stream",
     "text": [
      "Predicted class: Common_Eastern_Bumble_Bee\n"
     ]
    }
   ],
   "source": [
    "print(\"Predicted class:\", id_to_class[prediction[0]])"
   ]
  },
  {
   "cell_type": "markdown",
   "id": "9bfc92a6",
   "metadata": {},
   "source": [
    "# Try predict"
   ]
  },
  {
   "cell_type": "code",
   "execution_count": 3,
   "id": "20b181a6",
   "metadata": {},
   "outputs": [
    {
     "name": "stdout",
     "output_type": "stream",
     "text": [
      "\u001b[1m25/25\u001b[0m \u001b[32m━━━━━━━━━━━━━━━━━━━━\u001b[0m\u001b[37m\u001b[0m \u001b[1m13s\u001b[0m 483ms/step - accuracy: 0.8030 - loss: 0.8133\n",
      "Validation loss: 0.8662, Validation accuracy: 0.7875\n",
      "\u001b[1m25/25\u001b[0m \u001b[32m━━━━━━━━━━━━━━━━━━━━\u001b[0m\u001b[37m\u001b[0m \u001b[1m12s\u001b[0m 467ms/step - accuracy: 0.8285 - loss: 0.6730\n",
      "Test loss: 0.8091, Test accuracy: 0.8067\n"
     ]
    }
   ],
   "source": [
    "img_array = preprocess_image()\n",
    "model = load_best_model()\n",
    "\n",
    "val_loss, val_acc = model.evaluate(val_ds)\n",
    "print(f\"Validation loss: {val_loss:.4f}, Validation accuracy: {val_acc:.4f}\")\n",
    "\n",
    "test_loss, test_acc = model.evaluate(test_ds)\n",
    "print(f\"Test loss: {test_loss:.4f}, Test accuracy: {test_acc:.4f}\")"
   ]
  },
  {
   "cell_type": "code",
   "execution_count": 4,
   "id": "7584760b",
   "metadata": {},
   "outputs": [
    {
     "name": "stdout",
     "output_type": "stream",
     "text": [
      "\u001b[1m1/1\u001b[0m \u001b[32m━━━━━━━━━━━━━━━━━━━━\u001b[0m\u001b[37m\u001b[0m \u001b[1m1s\u001b[0m 645ms/step\n"
     ]
    }
   ],
   "source": [
    "img_array = preprocess_image()\n",
    "model = load_best_model()\n",
    "pred = predict(model, img_array=img_array)"
   ]
  },
  {
   "cell_type": "code",
   "execution_count": 5,
   "id": "05c65170",
   "metadata": {},
   "outputs": [
    {
     "data": {
      "text/plain": [
       "{'class': 'Red-tailed_Bumble_Bee', 'confidence': '99.83%'}"
      ]
     },
     "execution_count": 5,
     "metadata": {},
     "output_type": "execute_result"
    }
   ],
   "source": [
    "pred"
   ]
  },
  {
   "cell_type": "markdown",
   "id": "91150688",
   "metadata": {},
   "source": [
    "# First Layer Prediction"
   ]
  },
  {
   "cell_type": "code",
   "execution_count": 5,
   "id": "06a4ca96",
   "metadata": {},
   "outputs": [
    {
     "name": "stdout",
     "output_type": "stream",
     "text": [
      "Found 17766 files belonging to 3 classes.\n",
      "Found 3810 files belonging to 3 classes.\n",
      "Found 3810 files belonging to 3 classes.\n"
     ]
    }
   ],
   "source": [
    "train_ds, val_ds, test_ds = load_datasets(data_dir=FIRST_LAYER_DIR)"
   ]
  },
  {
   "cell_type": "code",
   "execution_count": null,
   "id": "0c830cb3",
   "metadata": {},
   "outputs": [
    {
     "name": "stdout",
     "output_type": "stream",
     "text": [
      "\u001b[1m239/239\u001b[0m \u001b[32m━━━━━━━━━━━━━━━━━━━━\u001b[0m\u001b[37m\u001b[0m \u001b[1m72s\u001b[0m 296ms/step - accuracy: 0.9200 - loss: 0.3693\n",
      "Validation loss: 0.3469, Validation accuracy: 0.9202\n",
      "\u001b[1m239/239\u001b[0m \u001b[32m━━━━━━━━━━━━━━━━━━━━\u001b[0m\u001b[37m\u001b[0m \u001b[1m75s\u001b[0m 313ms/step - accuracy: 0.8823 - loss: 0.5327\n",
      "Test loss: 0.3601, Test accuracy: 0.9194\n"
     ]
    }
   ],
   "source": [
    "img_array = preprocess_image()\n",
    "model = load_first_layer_model()\n",
    "\n",
    "val_loss, val_acc = model.evaluate(val_ds)\n",
    "print(f\"Validation loss: {val_loss:.4f}, Validation accuracy: {val_acc:.4f}\")\n",
    "\n",
    "test_loss, test_acc = model.evaluate(test_ds)\n",
    "print(f\"Test loss: {test_loss:.4f}, Test accuracy: {test_acc:.4f}\")"
   ]
  },
  {
   "cell_type": "code",
   "execution_count": 9,
   "id": "49d17135",
   "metadata": {},
   "outputs": [
    {
     "name": "stdout",
     "output_type": "stream",
     "text": [
      "\u001b[1m1/1\u001b[0m \u001b[32m━━━━━━━━━━━━━━━━━━━━\u001b[0m\u001b[37m\u001b[0m \u001b[1m1s\u001b[0m 575ms/step\n"
     ]
    },
    {
     "data": {
      "text/plain": [
       "{'class': 'bumble_bees', 'confidence': '99.98%'}"
      ]
     },
     "execution_count": 9,
     "metadata": {},
     "output_type": "execute_result"
    }
   ],
   "source": [
    "img_array = preprocess_image()\n",
    "model = load_first_layer_model()\n",
    "pred = predict_first_layer(model, img_array=img_array)\n",
    "pred"
   ]
  },
  {
   "cell_type": "markdown",
   "id": "23315326",
   "metadata": {},
   "source": [
    "# CSV"
   ]
  },
  {
   "cell_type": "code",
   "execution_count": 5,
   "id": "a5aa469d",
   "metadata": {},
   "outputs": [],
   "source": [
    "full_df = pd.read_csv(BEES_CSV_PATH)"
   ]
  },
  {
   "cell_type": "code",
   "execution_count": 6,
   "id": "0a7e0c94",
   "metadata": {},
   "outputs": [
    {
     "data": {
      "text/html": [
       "<div>\n",
       "<style scoped>\n",
       "    .dataframe tbody tr th:only-of-type {\n",
       "        vertical-align: middle;\n",
       "    }\n",
       "\n",
       "    .dataframe tbody tr th {\n",
       "        vertical-align: top;\n",
       "    }\n",
       "\n",
       "    .dataframe thead th {\n",
       "        text-align: right;\n",
       "    }\n",
       "</style>\n",
       "<table border=\"1\" class=\"dataframe\">\n",
       "  <thead>\n",
       "    <tr style=\"text-align: right;\">\n",
       "      <th></th>\n",
       "      <th>id</th>\n",
       "      <th>observed_on</th>\n",
       "      <th>scientific_name</th>\n",
       "      <th>common_name</th>\n",
       "      <th>photo_url</th>\n",
       "      <th>location</th>\n",
       "      <th>license</th>\n",
       "    </tr>\n",
       "  </thead>\n",
       "  <tbody>\n",
       "    <tr>\n",
       "      <th>0</th>\n",
       "      <td>306444296</td>\n",
       "      <td>2025-08-15</td>\n",
       "      <td>Bombus</td>\n",
       "      <td>Bumble Bees</td>\n",
       "      <td>https://inaturalist-open-data.s3.amazonaws.com...</td>\n",
       "      <td>63.6582816672,28.3958057128</td>\n",
       "      <td>cc-by</td>\n",
       "    </tr>\n",
       "    <tr>\n",
       "      <th>1</th>\n",
       "      <td>306442436</td>\n",
       "      <td>2025-08-14</td>\n",
       "      <td>Bombus bohemicus</td>\n",
       "      <td>Bohemian Cuckoo Bumble bee</td>\n",
       "      <td>https://inaturalist-open-data.s3.amazonaws.com...</td>\n",
       "      <td>55.1668805086,25.8369277045</td>\n",
       "      <td>cc-by</td>\n",
       "    </tr>\n",
       "    <tr>\n",
       "      <th>2</th>\n",
       "      <td>306442093</td>\n",
       "      <td>2025-08-09</td>\n",
       "      <td>Bombus lucorum</td>\n",
       "      <td>White-tailed Bumble Bee</td>\n",
       "      <td>https://inaturalist-open-data.s3.amazonaws.com...</td>\n",
       "      <td>55.8554033333,-4.0173916667</td>\n",
       "      <td>cc0</td>\n",
       "    </tr>\n",
       "    <tr>\n",
       "      <th>3</th>\n",
       "      <td>306441992</td>\n",
       "      <td>2025-07-29</td>\n",
       "      <td>Bombus pascuorum</td>\n",
       "      <td>Common Carder Bumble Bee</td>\n",
       "      <td>https://inaturalist-open-data.s3.amazonaws.com...</td>\n",
       "      <td>56.480225,-5.9940616667</td>\n",
       "      <td>cc0</td>\n",
       "    </tr>\n",
       "    <tr>\n",
       "      <th>4</th>\n",
       "      <td>306439346</td>\n",
       "      <td>2025-08-14</td>\n",
       "      <td>Bombus</td>\n",
       "      <td>Bumble Bees</td>\n",
       "      <td>https://inaturalist-open-data.s3.amazonaws.com...</td>\n",
       "      <td>55.9393141806,-3.1699150801</td>\n",
       "      <td>cc0</td>\n",
       "    </tr>\n",
       "  </tbody>\n",
       "</table>\n",
       "</div>"
      ],
      "text/plain": [
       "          id observed_on   scientific_name                 common_name  \\\n",
       "0  306444296  2025-08-15            Bombus                 Bumble Bees   \n",
       "1  306442436  2025-08-14  Bombus bohemicus  Bohemian Cuckoo Bumble bee   \n",
       "2  306442093  2025-08-09    Bombus lucorum     White-tailed Bumble Bee   \n",
       "3  306441992  2025-07-29  Bombus pascuorum    Common Carder Bumble Bee   \n",
       "4  306439346  2025-08-14            Bombus                 Bumble Bees   \n",
       "\n",
       "                                           photo_url  \\\n",
       "0  https://inaturalist-open-data.s3.amazonaws.com...   \n",
       "1  https://inaturalist-open-data.s3.amazonaws.com...   \n",
       "2  https://inaturalist-open-data.s3.amazonaws.com...   \n",
       "3  https://inaturalist-open-data.s3.amazonaws.com...   \n",
       "4  https://inaturalist-open-data.s3.amazonaws.com...   \n",
       "\n",
       "                      location license  \n",
       "0  63.6582816672,28.3958057128   cc-by  \n",
       "1  55.1668805086,25.8369277045   cc-by  \n",
       "2  55.8554033333,-4.0173916667     cc0  \n",
       "3      56.480225,-5.9940616667     cc0  \n",
       "4  55.9393141806,-3.1699150801     cc0  "
      ]
     },
     "execution_count": 6,
     "metadata": {},
     "output_type": "execute_result"
    }
   ],
   "source": [
    "full_df.head()"
   ]
  },
  {
   "cell_type": "code",
   "execution_count": 7,
   "id": "db81a1c5",
   "metadata": {},
   "outputs": [],
   "source": [
    "name_loc_df = full_df.drop(columns=[\"id\", \"photo_url\", \"license\"])"
   ]
  },
  {
   "cell_type": "code",
   "execution_count": 8,
   "id": "d6e302a2",
   "metadata": {},
   "outputs": [
    {
     "data": {
      "text/html": [
       "<div>\n",
       "<style scoped>\n",
       "    .dataframe tbody tr th:only-of-type {\n",
       "        vertical-align: middle;\n",
       "    }\n",
       "\n",
       "    .dataframe tbody tr th {\n",
       "        vertical-align: top;\n",
       "    }\n",
       "\n",
       "    .dataframe thead th {\n",
       "        text-align: right;\n",
       "    }\n",
       "</style>\n",
       "<table border=\"1\" class=\"dataframe\">\n",
       "  <thead>\n",
       "    <tr style=\"text-align: right;\">\n",
       "      <th></th>\n",
       "      <th>observed_on</th>\n",
       "      <th>scientific_name</th>\n",
       "      <th>common_name</th>\n",
       "      <th>location</th>\n",
       "    </tr>\n",
       "  </thead>\n",
       "  <tbody>\n",
       "    <tr>\n",
       "      <th>0</th>\n",
       "      <td>2025-08-15</td>\n",
       "      <td>Bombus</td>\n",
       "      <td>Bumble Bees</td>\n",
       "      <td>63.6582816672,28.3958057128</td>\n",
       "    </tr>\n",
       "    <tr>\n",
       "      <th>1</th>\n",
       "      <td>2025-08-14</td>\n",
       "      <td>Bombus bohemicus</td>\n",
       "      <td>Bohemian Cuckoo Bumble bee</td>\n",
       "      <td>55.1668805086,25.8369277045</td>\n",
       "    </tr>\n",
       "    <tr>\n",
       "      <th>2</th>\n",
       "      <td>2025-08-09</td>\n",
       "      <td>Bombus lucorum</td>\n",
       "      <td>White-tailed Bumble Bee</td>\n",
       "      <td>55.8554033333,-4.0173916667</td>\n",
       "    </tr>\n",
       "    <tr>\n",
       "      <th>3</th>\n",
       "      <td>2025-07-29</td>\n",
       "      <td>Bombus pascuorum</td>\n",
       "      <td>Common Carder Bumble Bee</td>\n",
       "      <td>56.480225,-5.9940616667</td>\n",
       "    </tr>\n",
       "    <tr>\n",
       "      <th>4</th>\n",
       "      <td>2025-08-14</td>\n",
       "      <td>Bombus</td>\n",
       "      <td>Bumble Bees</td>\n",
       "      <td>55.9393141806,-3.1699150801</td>\n",
       "    </tr>\n",
       "  </tbody>\n",
       "</table>\n",
       "</div>"
      ],
      "text/plain": [
       "  observed_on   scientific_name                 common_name  \\\n",
       "0  2025-08-15            Bombus                 Bumble Bees   \n",
       "1  2025-08-14  Bombus bohemicus  Bohemian Cuckoo Bumble bee   \n",
       "2  2025-08-09    Bombus lucorum     White-tailed Bumble Bee   \n",
       "3  2025-07-29  Bombus pascuorum    Common Carder Bumble Bee   \n",
       "4  2025-08-14            Bombus                 Bumble Bees   \n",
       "\n",
       "                      location  \n",
       "0  63.6582816672,28.3958057128  \n",
       "1  55.1668805086,25.8369277045  \n",
       "2  55.8554033333,-4.0173916667  \n",
       "3      56.480225,-5.9940616667  \n",
       "4  55.9393141806,-3.1699150801  "
      ]
     },
     "execution_count": 8,
     "metadata": {},
     "output_type": "execute_result"
    }
   ],
   "source": [
    "name_loc_df.head()"
   ]
  },
  {
   "cell_type": "code",
   "execution_count": 9,
   "id": "7de6365a",
   "metadata": {},
   "outputs": [
    {
     "data": {
      "text/html": [
       "<div>\n",
       "<style scoped>\n",
       "    .dataframe tbody tr th:only-of-type {\n",
       "        vertical-align: middle;\n",
       "    }\n",
       "\n",
       "    .dataframe tbody tr th {\n",
       "        vertical-align: top;\n",
       "    }\n",
       "\n",
       "    .dataframe thead th {\n",
       "        text-align: right;\n",
       "    }\n",
       "</style>\n",
       "<table border=\"1\" class=\"dataframe\">\n",
       "  <thead>\n",
       "    <tr style=\"text-align: right;\">\n",
       "      <th></th>\n",
       "      <th>observed_on</th>\n",
       "      <th>scientific_name</th>\n",
       "      <th>location</th>\n",
       "    </tr>\n",
       "    <tr>\n",
       "      <th>common_name</th>\n",
       "      <th></th>\n",
       "      <th></th>\n",
       "      <th></th>\n",
       "    </tr>\n",
       "  </thead>\n",
       "  <tbody>\n",
       "    <tr>\n",
       "      <th>Alpine Bumble Bee</th>\n",
       "      <td>2</td>\n",
       "      <td>2</td>\n",
       "      <td>2</td>\n",
       "    </tr>\n",
       "    <tr>\n",
       "      <th>Amazonian Bumble Bee</th>\n",
       "      <td>1</td>\n",
       "      <td>1</td>\n",
       "      <td>1</td>\n",
       "    </tr>\n",
       "    <tr>\n",
       "      <th>American Bumble Bee</th>\n",
       "      <td>218</td>\n",
       "      <td>218</td>\n",
       "      <td>217</td>\n",
       "    </tr>\n",
       "    <tr>\n",
       "      <th>Andean Red Bumble Bee</th>\n",
       "      <td>1</td>\n",
       "      <td>1</td>\n",
       "      <td>1</td>\n",
       "    </tr>\n",
       "    <tr>\n",
       "      <th>Ashton's Cuckoo Bumble Bee</th>\n",
       "      <td>1</td>\n",
       "      <td>1</td>\n",
       "      <td>1</td>\n",
       "    </tr>\n",
       "    <tr>\n",
       "      <th>...</th>\n",
       "      <td>...</td>\n",
       "      <td>...</td>\n",
       "      <td>...</td>\n",
       "    </tr>\n",
       "    <tr>\n",
       "      <th>Yellow-banded Bumble Bee</th>\n",
       "      <td>75</td>\n",
       "      <td>75</td>\n",
       "      <td>75</td>\n",
       "    </tr>\n",
       "    <tr>\n",
       "      <th>Yellow-faced Bumble Bee</th>\n",
       "      <td>285</td>\n",
       "      <td>285</td>\n",
       "      <td>285</td>\n",
       "    </tr>\n",
       "    <tr>\n",
       "      <th>Yellow-fronted Bumble Bee</th>\n",
       "      <td>58</td>\n",
       "      <td>58</td>\n",
       "      <td>57</td>\n",
       "    </tr>\n",
       "    <tr>\n",
       "      <th>Yellowish Cuckoo Bumble bee</th>\n",
       "      <td>67</td>\n",
       "      <td>67</td>\n",
       "      <td>67</td>\n",
       "    </tr>\n",
       "    <tr>\n",
       "      <th>frigid bumble bee</th>\n",
       "      <td>12</td>\n",
       "      <td>12</td>\n",
       "      <td>12</td>\n",
       "    </tr>\n",
       "  </tbody>\n",
       "</table>\n",
       "<p>100 rows × 3 columns</p>\n",
       "</div>"
      ],
      "text/plain": [
       "                             observed_on  scientific_name  location\n",
       "common_name                                                        \n",
       "Alpine Bumble Bee                      2                2         2\n",
       "Amazonian Bumble Bee                   1                1         1\n",
       "American Bumble Bee                  218              218       217\n",
       "Andean Red Bumble Bee                  1                1         1\n",
       "Ashton's Cuckoo Bumble Bee             1                1         1\n",
       "...                                  ...              ...       ...\n",
       "Yellow-banded Bumble Bee              75               75        75\n",
       "Yellow-faced Bumble Bee              285              285       285\n",
       "Yellow-fronted Bumble Bee             58               58        57\n",
       "Yellowish Cuckoo Bumble bee           67               67        67\n",
       "frigid bumble bee                     12               12        12\n",
       "\n",
       "[100 rows x 3 columns]"
      ]
     },
     "execution_count": 9,
     "metadata": {},
     "output_type": "execute_result"
    }
   ],
   "source": [
    "name_loc_df.groupby(name_loc_df[\"common_name\"]).count()"
   ]
  },
  {
   "cell_type": "code",
   "execution_count": 10,
   "id": "9d09c98c",
   "metadata": {},
   "outputs": [],
   "source": [
    "name_loc_df['class_name'] = name_loc_df['common_name'].str.replace(\" \", \"_\")"
   ]
  },
  {
   "cell_type": "code",
   "execution_count": 11,
   "id": "25d01d08",
   "metadata": {},
   "outputs": [
    {
     "data": {
      "text/html": [
       "<div>\n",
       "<style scoped>\n",
       "    .dataframe tbody tr th:only-of-type {\n",
       "        vertical-align: middle;\n",
       "    }\n",
       "\n",
       "    .dataframe tbody tr th {\n",
       "        vertical-align: top;\n",
       "    }\n",
       "\n",
       "    .dataframe thead th {\n",
       "        text-align: right;\n",
       "    }\n",
       "</style>\n",
       "<table border=\"1\" class=\"dataframe\">\n",
       "  <thead>\n",
       "    <tr style=\"text-align: right;\">\n",
       "      <th></th>\n",
       "      <th>observed_on</th>\n",
       "      <th>scientific_name</th>\n",
       "      <th>common_name</th>\n",
       "      <th>location</th>\n",
       "      <th>class_name</th>\n",
       "    </tr>\n",
       "  </thead>\n",
       "  <tbody>\n",
       "    <tr>\n",
       "      <th>0</th>\n",
       "      <td>2025-08-15</td>\n",
       "      <td>Bombus</td>\n",
       "      <td>Bumble Bees</td>\n",
       "      <td>63.6582816672,28.3958057128</td>\n",
       "      <td>Bumble_Bees</td>\n",
       "    </tr>\n",
       "    <tr>\n",
       "      <th>1</th>\n",
       "      <td>2025-08-14</td>\n",
       "      <td>Bombus bohemicus</td>\n",
       "      <td>Bohemian Cuckoo Bumble bee</td>\n",
       "      <td>55.1668805086,25.8369277045</td>\n",
       "      <td>Bohemian_Cuckoo_Bumble_bee</td>\n",
       "    </tr>\n",
       "    <tr>\n",
       "      <th>2</th>\n",
       "      <td>2025-08-09</td>\n",
       "      <td>Bombus lucorum</td>\n",
       "      <td>White-tailed Bumble Bee</td>\n",
       "      <td>55.8554033333,-4.0173916667</td>\n",
       "      <td>White-tailed_Bumble_Bee</td>\n",
       "    </tr>\n",
       "    <tr>\n",
       "      <th>3</th>\n",
       "      <td>2025-07-29</td>\n",
       "      <td>Bombus pascuorum</td>\n",
       "      <td>Common Carder Bumble Bee</td>\n",
       "      <td>56.480225,-5.9940616667</td>\n",
       "      <td>Common_Carder_Bumble_Bee</td>\n",
       "    </tr>\n",
       "    <tr>\n",
       "      <th>4</th>\n",
       "      <td>2025-08-14</td>\n",
       "      <td>Bombus</td>\n",
       "      <td>Bumble Bees</td>\n",
       "      <td>55.9393141806,-3.1699150801</td>\n",
       "      <td>Bumble_Bees</td>\n",
       "    </tr>\n",
       "    <tr>\n",
       "      <th>...</th>\n",
       "      <td>...</td>\n",
       "      <td>...</td>\n",
       "      <td>...</td>\n",
       "      <td>...</td>\n",
       "      <td>...</td>\n",
       "    </tr>\n",
       "    <tr>\n",
       "      <th>9986</th>\n",
       "      <td>2025-07-11</td>\n",
       "      <td>Bombus terrestris</td>\n",
       "      <td>Buff-tailed Bumble Bee</td>\n",
       "      <td>51.392155,1.39308</td>\n",
       "      <td>Buff-tailed_Bumble_Bee</td>\n",
       "    </tr>\n",
       "    <tr>\n",
       "      <th>9987</th>\n",
       "      <td>2025-07-11</td>\n",
       "      <td>Bombus terrestris</td>\n",
       "      <td>Buff-tailed Bumble Bee</td>\n",
       "      <td>51.3923416667,1.39232</td>\n",
       "      <td>Buff-tailed_Bumble_Bee</td>\n",
       "    </tr>\n",
       "    <tr>\n",
       "      <th>9988</th>\n",
       "      <td>2025-07-09</td>\n",
       "      <td>Bombus griseocollis</td>\n",
       "      <td>Brown-belted Bumble Bee</td>\n",
       "      <td>36.1364903292,-95.907794499</td>\n",
       "      <td>Brown-belted_Bumble_Bee</td>\n",
       "    </tr>\n",
       "    <tr>\n",
       "      <th>9989</th>\n",
       "      <td>2025-07-11</td>\n",
       "      <td>Bombus terrestris</td>\n",
       "      <td>Buff-tailed Bumble Bee</td>\n",
       "      <td>51.391675,1.3835133333</td>\n",
       "      <td>Buff-tailed_Bumble_Bee</td>\n",
       "    </tr>\n",
       "    <tr>\n",
       "      <th>9990</th>\n",
       "      <td>2025-07-11</td>\n",
       "      <td>Bombus</td>\n",
       "      <td>Bumble Bees</td>\n",
       "      <td>49.876805,8.6914633333</td>\n",
       "      <td>Bumble_Bees</td>\n",
       "    </tr>\n",
       "  </tbody>\n",
       "</table>\n",
       "<p>9991 rows × 5 columns</p>\n",
       "</div>"
      ],
      "text/plain": [
       "     observed_on      scientific_name                 common_name  \\\n",
       "0     2025-08-15               Bombus                 Bumble Bees   \n",
       "1     2025-08-14     Bombus bohemicus  Bohemian Cuckoo Bumble bee   \n",
       "2     2025-08-09       Bombus lucorum     White-tailed Bumble Bee   \n",
       "3     2025-07-29     Bombus pascuorum    Common Carder Bumble Bee   \n",
       "4     2025-08-14               Bombus                 Bumble Bees   \n",
       "...          ...                  ...                         ...   \n",
       "9986  2025-07-11    Bombus terrestris      Buff-tailed Bumble Bee   \n",
       "9987  2025-07-11    Bombus terrestris      Buff-tailed Bumble Bee   \n",
       "9988  2025-07-09  Bombus griseocollis     Brown-belted Bumble Bee   \n",
       "9989  2025-07-11    Bombus terrestris      Buff-tailed Bumble Bee   \n",
       "9990  2025-07-11               Bombus                 Bumble Bees   \n",
       "\n",
       "                         location                  class_name  \n",
       "0     63.6582816672,28.3958057128                 Bumble_Bees  \n",
       "1     55.1668805086,25.8369277045  Bohemian_Cuckoo_Bumble_bee  \n",
       "2     55.8554033333,-4.0173916667     White-tailed_Bumble_Bee  \n",
       "3         56.480225,-5.9940616667    Common_Carder_Bumble_Bee  \n",
       "4     55.9393141806,-3.1699150801                 Bumble_Bees  \n",
       "...                           ...                         ...  \n",
       "9986            51.392155,1.39308      Buff-tailed_Bumble_Bee  \n",
       "9987        51.3923416667,1.39232      Buff-tailed_Bumble_Bee  \n",
       "9988  36.1364903292,-95.907794499     Brown-belted_Bumble_Bee  \n",
       "9989       51.391675,1.3835133333      Buff-tailed_Bumble_Bee  \n",
       "9990       49.876805,8.6914633333                 Bumble_Bees  \n",
       "\n",
       "[9991 rows x 5 columns]"
      ]
     },
     "execution_count": 11,
     "metadata": {},
     "output_type": "execute_result"
    }
   ],
   "source": [
    "name_loc_df"
   ]
  },
  {
   "cell_type": "code",
   "execution_count": 24,
   "id": "9f5bd666",
   "metadata": {},
   "outputs": [
    {
     "name": "stdout",
     "output_type": "stream",
     "text": [
      "United Kingdom GB\n"
     ]
    }
   ],
   "source": [
    "from geopy.geocoders import Nominatim\n",
    "import time\n",
    "\n",
    "lat, lon = 51.5074, -0.1278\n",
    "geo = Nominatim(user_agent=\"bee-tector\")\n",
    "loc = geo.reverse((lat, lon), language=\"en\")\n",
    "\n",
    "country = loc.raw[\"address\"].get(\"country\")\n",
    "code = loc.raw[\"address\"].get(\"country_code\", \"\").upper()\n",
    "print(country, code)"
   ]
  },
  {
   "cell_type": "code",
   "execution_count": 12,
   "id": "be6e4983",
   "metadata": {},
   "outputs": [],
   "source": [
    "name_loc_df[[\"lat\",\"lon\"]] = name_loc_df[\"location\"].str.split(\",\", n=1, expand=True).astype(float)"
   ]
  },
  {
   "cell_type": "code",
   "execution_count": 19,
   "id": "f2df63da",
   "metadata": {},
   "outputs": [
    {
     "data": {
      "text/html": [
       "<div>\n",
       "<style scoped>\n",
       "    .dataframe tbody tr th:only-of-type {\n",
       "        vertical-align: middle;\n",
       "    }\n",
       "\n",
       "    .dataframe tbody tr th {\n",
       "        vertical-align: top;\n",
       "    }\n",
       "\n",
       "    .dataframe thead th {\n",
       "        text-align: right;\n",
       "    }\n",
       "</style>\n",
       "<table border=\"1\" class=\"dataframe\">\n",
       "  <thead>\n",
       "    <tr style=\"text-align: right;\">\n",
       "      <th></th>\n",
       "      <th>observed_on</th>\n",
       "      <th>scientific_name</th>\n",
       "      <th>common_name</th>\n",
       "      <th>location</th>\n",
       "      <th>class_name</th>\n",
       "      <th>lat</th>\n",
       "      <th>lon</th>\n",
       "    </tr>\n",
       "  </thead>\n",
       "  <tbody>\n",
       "    <tr>\n",
       "      <th>0</th>\n",
       "      <td>2025-08-15</td>\n",
       "      <td>Bombus</td>\n",
       "      <td>Bumble Bees</td>\n",
       "      <td>63.6582816672,28.3958057128</td>\n",
       "      <td>Bumble_Bees</td>\n",
       "      <td>63.658282</td>\n",
       "      <td>28.395806</td>\n",
       "    </tr>\n",
       "    <tr>\n",
       "      <th>1</th>\n",
       "      <td>2025-08-14</td>\n",
       "      <td>Bombus bohemicus</td>\n",
       "      <td>Bohemian Cuckoo Bumble bee</td>\n",
       "      <td>55.1668805086,25.8369277045</td>\n",
       "      <td>Bohemian_Cuckoo_Bumble_bee</td>\n",
       "      <td>55.166881</td>\n",
       "      <td>25.836928</td>\n",
       "    </tr>\n",
       "    <tr>\n",
       "      <th>2</th>\n",
       "      <td>2025-08-09</td>\n",
       "      <td>Bombus lucorum</td>\n",
       "      <td>White-tailed Bumble Bee</td>\n",
       "      <td>55.8554033333,-4.0173916667</td>\n",
       "      <td>White-tailed_Bumble_Bee</td>\n",
       "      <td>55.855403</td>\n",
       "      <td>-4.017392</td>\n",
       "    </tr>\n",
       "    <tr>\n",
       "      <th>3</th>\n",
       "      <td>2025-07-29</td>\n",
       "      <td>Bombus pascuorum</td>\n",
       "      <td>Common Carder Bumble Bee</td>\n",
       "      <td>56.480225,-5.9940616667</td>\n",
       "      <td>Common_Carder_Bumble_Bee</td>\n",
       "      <td>56.480225</td>\n",
       "      <td>-5.994062</td>\n",
       "    </tr>\n",
       "    <tr>\n",
       "      <th>4</th>\n",
       "      <td>2025-08-14</td>\n",
       "      <td>Bombus</td>\n",
       "      <td>Bumble Bees</td>\n",
       "      <td>55.9393141806,-3.1699150801</td>\n",
       "      <td>Bumble_Bees</td>\n",
       "      <td>55.939314</td>\n",
       "      <td>-3.169915</td>\n",
       "    </tr>\n",
       "    <tr>\n",
       "      <th>...</th>\n",
       "      <td>...</td>\n",
       "      <td>...</td>\n",
       "      <td>...</td>\n",
       "      <td>...</td>\n",
       "      <td>...</td>\n",
       "      <td>...</td>\n",
       "      <td>...</td>\n",
       "    </tr>\n",
       "    <tr>\n",
       "      <th>9986</th>\n",
       "      <td>2025-07-11</td>\n",
       "      <td>Bombus terrestris</td>\n",
       "      <td>Buff-tailed Bumble Bee</td>\n",
       "      <td>51.392155,1.39308</td>\n",
       "      <td>Buff-tailed_Bumble_Bee</td>\n",
       "      <td>51.392155</td>\n",
       "      <td>1.393080</td>\n",
       "    </tr>\n",
       "    <tr>\n",
       "      <th>9987</th>\n",
       "      <td>2025-07-11</td>\n",
       "      <td>Bombus terrestris</td>\n",
       "      <td>Buff-tailed Bumble Bee</td>\n",
       "      <td>51.3923416667,1.39232</td>\n",
       "      <td>Buff-tailed_Bumble_Bee</td>\n",
       "      <td>51.392342</td>\n",
       "      <td>1.392320</td>\n",
       "    </tr>\n",
       "    <tr>\n",
       "      <th>9988</th>\n",
       "      <td>2025-07-09</td>\n",
       "      <td>Bombus griseocollis</td>\n",
       "      <td>Brown-belted Bumble Bee</td>\n",
       "      <td>36.1364903292,-95.907794499</td>\n",
       "      <td>Brown-belted_Bumble_Bee</td>\n",
       "      <td>36.136490</td>\n",
       "      <td>-95.907794</td>\n",
       "    </tr>\n",
       "    <tr>\n",
       "      <th>9989</th>\n",
       "      <td>2025-07-11</td>\n",
       "      <td>Bombus terrestris</td>\n",
       "      <td>Buff-tailed Bumble Bee</td>\n",
       "      <td>51.391675,1.3835133333</td>\n",
       "      <td>Buff-tailed_Bumble_Bee</td>\n",
       "      <td>51.391675</td>\n",
       "      <td>1.383513</td>\n",
       "    </tr>\n",
       "    <tr>\n",
       "      <th>9990</th>\n",
       "      <td>2025-07-11</td>\n",
       "      <td>Bombus</td>\n",
       "      <td>Bumble Bees</td>\n",
       "      <td>49.876805,8.6914633333</td>\n",
       "      <td>Bumble_Bees</td>\n",
       "      <td>49.876805</td>\n",
       "      <td>8.691463</td>\n",
       "    </tr>\n",
       "  </tbody>\n",
       "</table>\n",
       "<p>9991 rows × 7 columns</p>\n",
       "</div>"
      ],
      "text/plain": [
       "     observed_on      scientific_name                 common_name  \\\n",
       "0     2025-08-15               Bombus                 Bumble Bees   \n",
       "1     2025-08-14     Bombus bohemicus  Bohemian Cuckoo Bumble bee   \n",
       "2     2025-08-09       Bombus lucorum     White-tailed Bumble Bee   \n",
       "3     2025-07-29     Bombus pascuorum    Common Carder Bumble Bee   \n",
       "4     2025-08-14               Bombus                 Bumble Bees   \n",
       "...          ...                  ...                         ...   \n",
       "9986  2025-07-11    Bombus terrestris      Buff-tailed Bumble Bee   \n",
       "9987  2025-07-11    Bombus terrestris      Buff-tailed Bumble Bee   \n",
       "9988  2025-07-09  Bombus griseocollis     Brown-belted Bumble Bee   \n",
       "9989  2025-07-11    Bombus terrestris      Buff-tailed Bumble Bee   \n",
       "9990  2025-07-11               Bombus                 Bumble Bees   \n",
       "\n",
       "                         location                  class_name        lat  \\\n",
       "0     63.6582816672,28.3958057128                 Bumble_Bees  63.658282   \n",
       "1     55.1668805086,25.8369277045  Bohemian_Cuckoo_Bumble_bee  55.166881   \n",
       "2     55.8554033333,-4.0173916667     White-tailed_Bumble_Bee  55.855403   \n",
       "3         56.480225,-5.9940616667    Common_Carder_Bumble_Bee  56.480225   \n",
       "4     55.9393141806,-3.1699150801                 Bumble_Bees  55.939314   \n",
       "...                           ...                         ...        ...   \n",
       "9986            51.392155,1.39308      Buff-tailed_Bumble_Bee  51.392155   \n",
       "9987        51.3923416667,1.39232      Buff-tailed_Bumble_Bee  51.392342   \n",
       "9988  36.1364903292,-95.907794499     Brown-belted_Bumble_Bee  36.136490   \n",
       "9989       51.391675,1.3835133333      Buff-tailed_Bumble_Bee  51.391675   \n",
       "9990       49.876805,8.6914633333                 Bumble_Bees  49.876805   \n",
       "\n",
       "            lon  \n",
       "0     28.395806  \n",
       "1     25.836928  \n",
       "2     -4.017392  \n",
       "3     -5.994062  \n",
       "4     -3.169915  \n",
       "...         ...  \n",
       "9986   1.393080  \n",
       "9987   1.392320  \n",
       "9988 -95.907794  \n",
       "9989   1.383513  \n",
       "9990   8.691463  \n",
       "\n",
       "[9991 rows x 7 columns]"
      ]
     },
     "execution_count": 19,
     "metadata": {},
     "output_type": "execute_result"
    }
   ],
   "source": [
    "name_loc_df"
   ]
  },
  {
   "cell_type": "code",
   "execution_count": 20,
   "id": "f5f311a5",
   "metadata": {},
   "outputs": [],
   "source": [
    "geo = Nominatim(user_agent=\"bee-tector\")"
   ]
  },
  {
   "cell_type": "markdown",
   "id": "79721a53",
   "metadata": {},
   "source": []
  },
  {
   "cell_type": "code",
   "execution_count": 21,
   "id": "f0ee3dbe",
   "metadata": {},
   "outputs": [],
   "source": [
    "name_loc_df[\"country\"] = pd.NA\n",
    "name_loc_df[\"country_code\"] = pd.NA"
   ]
  },
  {
   "cell_type": "code",
   "execution_count": 25,
   "id": "b03cd95a",
   "metadata": {},
   "outputs": [
    {
     "ename": "KeyboardInterrupt",
     "evalue": "",
     "output_type": "error",
     "traceback": [
      "\u001b[0;31m---------------------------------------------------------------------------\u001b[0m",
      "\u001b[0;31mKeyboardInterrupt\u001b[0m                         Traceback (most recent call last)",
      "Cell \u001b[0;32mIn[25], line 3\u001b[0m\n\u001b[1;32m      1\u001b[0m \u001b[38;5;28;01mfor\u001b[39;00m i, row \u001b[38;5;129;01min\u001b[39;00m name_loc_df\u001b[38;5;241m.\u001b[39miterrows():\n\u001b[1;32m      2\u001b[0m     \u001b[38;5;28;01mtry\u001b[39;00m:\n\u001b[0;32m----> 3\u001b[0m         loc \u001b[38;5;241m=\u001b[39m \u001b[43mgeo\u001b[49m\u001b[38;5;241;43m.\u001b[39;49m\u001b[43mreverse\u001b[49m\u001b[43m(\u001b[49m\u001b[43m(\u001b[49m\u001b[43mrow\u001b[49m\u001b[43m[\u001b[49m\u001b[38;5;124;43m\"\u001b[39;49m\u001b[38;5;124;43mlat\u001b[39;49m\u001b[38;5;124;43m\"\u001b[39;49m\u001b[43m]\u001b[49m\u001b[43m,\u001b[49m\u001b[43m \u001b[49m\u001b[43mrow\u001b[49m\u001b[43m[\u001b[49m\u001b[38;5;124;43m\"\u001b[39;49m\u001b[38;5;124;43mlon\u001b[39;49m\u001b[38;5;124;43m\"\u001b[39;49m\u001b[43m]\u001b[49m\u001b[43m)\u001b[49m\u001b[43m,\u001b[49m\u001b[43m \u001b[49m\u001b[43mlanguage\u001b[49m\u001b[38;5;241;43m=\u001b[39;49m\u001b[38;5;124;43m\"\u001b[39;49m\u001b[38;5;124;43men\u001b[39;49m\u001b[38;5;124;43m\"\u001b[39;49m\u001b[43m,\u001b[49m\u001b[43m \u001b[49m\u001b[43mexactly_one\u001b[49m\u001b[38;5;241;43m=\u001b[39;49m\u001b[38;5;28;43;01mTrue\u001b[39;49;00m\u001b[43m)\u001b[49m\n\u001b[1;32m      4\u001b[0m         \u001b[38;5;28;01mif\u001b[39;00m loc \u001b[38;5;129;01mand\u001b[39;00m \u001b[38;5;124m\"\u001b[39m\u001b[38;5;124maddress\u001b[39m\u001b[38;5;124m\"\u001b[39m \u001b[38;5;129;01min\u001b[39;00m loc\u001b[38;5;241m.\u001b[39mraw:\n\u001b[1;32m      5\u001b[0m             addr \u001b[38;5;241m=\u001b[39m loc\u001b[38;5;241m.\u001b[39mraw[\u001b[38;5;124m\"\u001b[39m\u001b[38;5;124maddress\u001b[39m\u001b[38;5;124m\"\u001b[39m]\n",
      "File \u001b[0;32m~/.pyenv/versions/3.12.9/envs/bee-minimal/lib/python3.12/site-packages/geopy/geocoders/nominatim.py:372\u001b[0m, in \u001b[0;36mNominatim.reverse\u001b[0;34m(self, query, exactly_one, timeout, language, addressdetails, zoom, namedetails)\u001b[0m\n\u001b[1;32m    370\u001b[0m logger\u001b[38;5;241m.\u001b[39mdebug(\u001b[38;5;124m\"\u001b[39m\u001b[38;5;132;01m%s\u001b[39;00m\u001b[38;5;124m.reverse: \u001b[39m\u001b[38;5;132;01m%s\u001b[39;00m\u001b[38;5;124m\"\u001b[39m, \u001b[38;5;28mself\u001b[39m\u001b[38;5;241m.\u001b[39m\u001b[38;5;18m__class__\u001b[39m\u001b[38;5;241m.\u001b[39m\u001b[38;5;18m__name__\u001b[39m, url)\n\u001b[1;32m    371\u001b[0m callback \u001b[38;5;241m=\u001b[39m partial(\u001b[38;5;28mself\u001b[39m\u001b[38;5;241m.\u001b[39m_parse_json, exactly_one\u001b[38;5;241m=\u001b[39mexactly_one)\n\u001b[0;32m--> 372\u001b[0m \u001b[38;5;28;01mreturn\u001b[39;00m \u001b[38;5;28;43mself\u001b[39;49m\u001b[38;5;241;43m.\u001b[39;49m\u001b[43m_call_geocoder\u001b[49m\u001b[43m(\u001b[49m\u001b[43murl\u001b[49m\u001b[43m,\u001b[49m\u001b[43m \u001b[49m\u001b[43mcallback\u001b[49m\u001b[43m,\u001b[49m\u001b[43m \u001b[49m\u001b[43mtimeout\u001b[49m\u001b[38;5;241;43m=\u001b[39;49m\u001b[43mtimeout\u001b[49m\u001b[43m)\u001b[49m\n",
      "File \u001b[0;32m~/.pyenv/versions/3.12.9/envs/bee-minimal/lib/python3.12/site-packages/geopy/geocoders/base.py:368\u001b[0m, in \u001b[0;36mGeocoder._call_geocoder\u001b[0;34m(self, url, callback, timeout, is_json, headers)\u001b[0m\n\u001b[1;32m    366\u001b[0m \u001b[38;5;28;01mtry\u001b[39;00m:\n\u001b[1;32m    367\u001b[0m     \u001b[38;5;28;01mif\u001b[39;00m is_json:\n\u001b[0;32m--> 368\u001b[0m         result \u001b[38;5;241m=\u001b[39m \u001b[38;5;28;43mself\u001b[39;49m\u001b[38;5;241;43m.\u001b[39;49m\u001b[43madapter\u001b[49m\u001b[38;5;241;43m.\u001b[39;49m\u001b[43mget_json\u001b[49m\u001b[43m(\u001b[49m\u001b[43murl\u001b[49m\u001b[43m,\u001b[49m\u001b[43m \u001b[49m\u001b[43mtimeout\u001b[49m\u001b[38;5;241;43m=\u001b[39;49m\u001b[43mtimeout\u001b[49m\u001b[43m,\u001b[49m\u001b[43m \u001b[49m\u001b[43mheaders\u001b[49m\u001b[38;5;241;43m=\u001b[39;49m\u001b[43mreq_headers\u001b[49m\u001b[43m)\u001b[49m\n\u001b[1;32m    369\u001b[0m     \u001b[38;5;28;01melse\u001b[39;00m:\n\u001b[1;32m    370\u001b[0m         result \u001b[38;5;241m=\u001b[39m \u001b[38;5;28mself\u001b[39m\u001b[38;5;241m.\u001b[39madapter\u001b[38;5;241m.\u001b[39mget_text(url, timeout\u001b[38;5;241m=\u001b[39mtimeout, headers\u001b[38;5;241m=\u001b[39mreq_headers)\n",
      "File \u001b[0;32m~/.pyenv/versions/3.12.9/envs/bee-minimal/lib/python3.12/site-packages/geopy/adapters.py:472\u001b[0m, in \u001b[0;36mRequestsAdapter.get_json\u001b[0;34m(self, url, timeout, headers)\u001b[0m\n\u001b[1;32m    471\u001b[0m \u001b[38;5;28;01mdef\u001b[39;00m\u001b[38;5;250m \u001b[39m\u001b[38;5;21mget_json\u001b[39m(\u001b[38;5;28mself\u001b[39m, url, \u001b[38;5;241m*\u001b[39m, timeout, headers):\n\u001b[0;32m--> 472\u001b[0m     resp \u001b[38;5;241m=\u001b[39m \u001b[38;5;28;43mself\u001b[39;49m\u001b[38;5;241;43m.\u001b[39;49m\u001b[43m_request\u001b[49m\u001b[43m(\u001b[49m\u001b[43murl\u001b[49m\u001b[43m,\u001b[49m\u001b[43m \u001b[49m\u001b[43mtimeout\u001b[49m\u001b[38;5;241;43m=\u001b[39;49m\u001b[43mtimeout\u001b[49m\u001b[43m,\u001b[49m\u001b[43m \u001b[49m\u001b[43mheaders\u001b[49m\u001b[38;5;241;43m=\u001b[39;49m\u001b[43mheaders\u001b[49m\u001b[43m)\u001b[49m\n\u001b[1;32m    473\u001b[0m     \u001b[38;5;28;01mtry\u001b[39;00m:\n\u001b[1;32m    474\u001b[0m         \u001b[38;5;28;01mreturn\u001b[39;00m resp\u001b[38;5;241m.\u001b[39mjson()\n",
      "File \u001b[0;32m~/.pyenv/versions/3.12.9/envs/bee-minimal/lib/python3.12/site-packages/geopy/adapters.py:482\u001b[0m, in \u001b[0;36mRequestsAdapter._request\u001b[0;34m(self, url, timeout, headers)\u001b[0m\n\u001b[1;32m    480\u001b[0m \u001b[38;5;28;01mdef\u001b[39;00m\u001b[38;5;250m \u001b[39m\u001b[38;5;21m_request\u001b[39m(\u001b[38;5;28mself\u001b[39m, url, \u001b[38;5;241m*\u001b[39m, timeout, headers):\n\u001b[1;32m    481\u001b[0m     \u001b[38;5;28;01mtry\u001b[39;00m:\n\u001b[0;32m--> 482\u001b[0m         resp \u001b[38;5;241m=\u001b[39m \u001b[38;5;28;43mself\u001b[39;49m\u001b[38;5;241;43m.\u001b[39;49m\u001b[43msession\u001b[49m\u001b[38;5;241;43m.\u001b[39;49m\u001b[43mget\u001b[49m\u001b[43m(\u001b[49m\u001b[43murl\u001b[49m\u001b[43m,\u001b[49m\u001b[43m \u001b[49m\u001b[43mtimeout\u001b[49m\u001b[38;5;241;43m=\u001b[39;49m\u001b[43mtimeout\u001b[49m\u001b[43m,\u001b[49m\u001b[43m \u001b[49m\u001b[43mheaders\u001b[49m\u001b[38;5;241;43m=\u001b[39;49m\u001b[43mheaders\u001b[49m\u001b[43m)\u001b[49m\n\u001b[1;32m    483\u001b[0m     \u001b[38;5;28;01mexcept\u001b[39;00m \u001b[38;5;167;01mException\u001b[39;00m \u001b[38;5;28;01mas\u001b[39;00m error:\n\u001b[1;32m    484\u001b[0m         message \u001b[38;5;241m=\u001b[39m \u001b[38;5;28mstr\u001b[39m(error)\n",
      "File \u001b[0;32m~/.pyenv/versions/3.12.9/envs/bee-minimal/lib/python3.12/site-packages/requests/sessions.py:602\u001b[0m, in \u001b[0;36mSession.get\u001b[0;34m(self, url, **kwargs)\u001b[0m\n\u001b[1;32m    594\u001b[0m \u001b[38;5;250m\u001b[39m\u001b[38;5;124mr\u001b[39m\u001b[38;5;124;03m\"\"\"Sends a GET request. Returns :class:`Response` object.\u001b[39;00m\n\u001b[1;32m    595\u001b[0m \n\u001b[1;32m    596\u001b[0m \u001b[38;5;124;03m:param url: URL for the new :class:`Request` object.\u001b[39;00m\n\u001b[1;32m    597\u001b[0m \u001b[38;5;124;03m:param \\*\\*kwargs: Optional arguments that ``request`` takes.\u001b[39;00m\n\u001b[1;32m    598\u001b[0m \u001b[38;5;124;03m:rtype: requests.Response\u001b[39;00m\n\u001b[1;32m    599\u001b[0m \u001b[38;5;124;03m\"\"\"\u001b[39;00m\n\u001b[1;32m    601\u001b[0m kwargs\u001b[38;5;241m.\u001b[39msetdefault(\u001b[38;5;124m\"\u001b[39m\u001b[38;5;124mallow_redirects\u001b[39m\u001b[38;5;124m\"\u001b[39m, \u001b[38;5;28;01mTrue\u001b[39;00m)\n\u001b[0;32m--> 602\u001b[0m \u001b[38;5;28;01mreturn\u001b[39;00m \u001b[38;5;28;43mself\u001b[39;49m\u001b[38;5;241;43m.\u001b[39;49m\u001b[43mrequest\u001b[49m\u001b[43m(\u001b[49m\u001b[38;5;124;43m\"\u001b[39;49m\u001b[38;5;124;43mGET\u001b[39;49m\u001b[38;5;124;43m\"\u001b[39;49m\u001b[43m,\u001b[49m\u001b[43m \u001b[49m\u001b[43murl\u001b[49m\u001b[43m,\u001b[49m\u001b[43m \u001b[49m\u001b[38;5;241;43m*\u001b[39;49m\u001b[38;5;241;43m*\u001b[39;49m\u001b[43mkwargs\u001b[49m\u001b[43m)\u001b[49m\n",
      "File \u001b[0;32m~/.pyenv/versions/3.12.9/envs/bee-minimal/lib/python3.12/site-packages/requests/sessions.py:589\u001b[0m, in \u001b[0;36mSession.request\u001b[0;34m(self, method, url, params, data, headers, cookies, files, auth, timeout, allow_redirects, proxies, hooks, stream, verify, cert, json)\u001b[0m\n\u001b[1;32m    584\u001b[0m send_kwargs \u001b[38;5;241m=\u001b[39m {\n\u001b[1;32m    585\u001b[0m     \u001b[38;5;124m\"\u001b[39m\u001b[38;5;124mtimeout\u001b[39m\u001b[38;5;124m\"\u001b[39m: timeout,\n\u001b[1;32m    586\u001b[0m     \u001b[38;5;124m\"\u001b[39m\u001b[38;5;124mallow_redirects\u001b[39m\u001b[38;5;124m\"\u001b[39m: allow_redirects,\n\u001b[1;32m    587\u001b[0m }\n\u001b[1;32m    588\u001b[0m send_kwargs\u001b[38;5;241m.\u001b[39mupdate(settings)\n\u001b[0;32m--> 589\u001b[0m resp \u001b[38;5;241m=\u001b[39m \u001b[38;5;28;43mself\u001b[39;49m\u001b[38;5;241;43m.\u001b[39;49m\u001b[43msend\u001b[49m\u001b[43m(\u001b[49m\u001b[43mprep\u001b[49m\u001b[43m,\u001b[49m\u001b[43m \u001b[49m\u001b[38;5;241;43m*\u001b[39;49m\u001b[38;5;241;43m*\u001b[39;49m\u001b[43msend_kwargs\u001b[49m\u001b[43m)\u001b[49m\n\u001b[1;32m    591\u001b[0m \u001b[38;5;28;01mreturn\u001b[39;00m resp\n",
      "File \u001b[0;32m~/.pyenv/versions/3.12.9/envs/bee-minimal/lib/python3.12/site-packages/requests/sessions.py:703\u001b[0m, in \u001b[0;36mSession.send\u001b[0;34m(self, request, **kwargs)\u001b[0m\n\u001b[1;32m    700\u001b[0m start \u001b[38;5;241m=\u001b[39m preferred_clock()\n\u001b[1;32m    702\u001b[0m \u001b[38;5;66;03m# Send the request\u001b[39;00m\n\u001b[0;32m--> 703\u001b[0m r \u001b[38;5;241m=\u001b[39m \u001b[43madapter\u001b[49m\u001b[38;5;241;43m.\u001b[39;49m\u001b[43msend\u001b[49m\u001b[43m(\u001b[49m\u001b[43mrequest\u001b[49m\u001b[43m,\u001b[49m\u001b[43m \u001b[49m\u001b[38;5;241;43m*\u001b[39;49m\u001b[38;5;241;43m*\u001b[39;49m\u001b[43mkwargs\u001b[49m\u001b[43m)\u001b[49m\n\u001b[1;32m    705\u001b[0m \u001b[38;5;66;03m# Total elapsed time of the request (approximately)\u001b[39;00m\n\u001b[1;32m    706\u001b[0m elapsed \u001b[38;5;241m=\u001b[39m preferred_clock() \u001b[38;5;241m-\u001b[39m start\n",
      "File \u001b[0;32m~/.pyenv/versions/3.12.9/envs/bee-minimal/lib/python3.12/site-packages/requests/adapters.py:667\u001b[0m, in \u001b[0;36mHTTPAdapter.send\u001b[0;34m(self, request, stream, timeout, verify, cert, proxies)\u001b[0m\n\u001b[1;32m    664\u001b[0m     timeout \u001b[38;5;241m=\u001b[39m TimeoutSauce(connect\u001b[38;5;241m=\u001b[39mtimeout, read\u001b[38;5;241m=\u001b[39mtimeout)\n\u001b[1;32m    666\u001b[0m \u001b[38;5;28;01mtry\u001b[39;00m:\n\u001b[0;32m--> 667\u001b[0m     resp \u001b[38;5;241m=\u001b[39m \u001b[43mconn\u001b[49m\u001b[38;5;241;43m.\u001b[39;49m\u001b[43murlopen\u001b[49m\u001b[43m(\u001b[49m\n\u001b[1;32m    668\u001b[0m \u001b[43m        \u001b[49m\u001b[43mmethod\u001b[49m\u001b[38;5;241;43m=\u001b[39;49m\u001b[43mrequest\u001b[49m\u001b[38;5;241;43m.\u001b[39;49m\u001b[43mmethod\u001b[49m\u001b[43m,\u001b[49m\n\u001b[1;32m    669\u001b[0m \u001b[43m        \u001b[49m\u001b[43murl\u001b[49m\u001b[38;5;241;43m=\u001b[39;49m\u001b[43murl\u001b[49m\u001b[43m,\u001b[49m\n\u001b[1;32m    670\u001b[0m \u001b[43m        \u001b[49m\u001b[43mbody\u001b[49m\u001b[38;5;241;43m=\u001b[39;49m\u001b[43mrequest\u001b[49m\u001b[38;5;241;43m.\u001b[39;49m\u001b[43mbody\u001b[49m\u001b[43m,\u001b[49m\n\u001b[1;32m    671\u001b[0m \u001b[43m        \u001b[49m\u001b[43mheaders\u001b[49m\u001b[38;5;241;43m=\u001b[39;49m\u001b[43mrequest\u001b[49m\u001b[38;5;241;43m.\u001b[39;49m\u001b[43mheaders\u001b[49m\u001b[43m,\u001b[49m\n\u001b[1;32m    672\u001b[0m \u001b[43m        \u001b[49m\u001b[43mredirect\u001b[49m\u001b[38;5;241;43m=\u001b[39;49m\u001b[38;5;28;43;01mFalse\u001b[39;49;00m\u001b[43m,\u001b[49m\n\u001b[1;32m    673\u001b[0m \u001b[43m        \u001b[49m\u001b[43massert_same_host\u001b[49m\u001b[38;5;241;43m=\u001b[39;49m\u001b[38;5;28;43;01mFalse\u001b[39;49;00m\u001b[43m,\u001b[49m\n\u001b[1;32m    674\u001b[0m \u001b[43m        \u001b[49m\u001b[43mpreload_content\u001b[49m\u001b[38;5;241;43m=\u001b[39;49m\u001b[38;5;28;43;01mFalse\u001b[39;49;00m\u001b[43m,\u001b[49m\n\u001b[1;32m    675\u001b[0m \u001b[43m        \u001b[49m\u001b[43mdecode_content\u001b[49m\u001b[38;5;241;43m=\u001b[39;49m\u001b[38;5;28;43;01mFalse\u001b[39;49;00m\u001b[43m,\u001b[49m\n\u001b[1;32m    676\u001b[0m \u001b[43m        \u001b[49m\u001b[43mretries\u001b[49m\u001b[38;5;241;43m=\u001b[39;49m\u001b[38;5;28;43mself\u001b[39;49m\u001b[38;5;241;43m.\u001b[39;49m\u001b[43mmax_retries\u001b[49m\u001b[43m,\u001b[49m\n\u001b[1;32m    677\u001b[0m \u001b[43m        \u001b[49m\u001b[43mtimeout\u001b[49m\u001b[38;5;241;43m=\u001b[39;49m\u001b[43mtimeout\u001b[49m\u001b[43m,\u001b[49m\n\u001b[1;32m    678\u001b[0m \u001b[43m        \u001b[49m\u001b[43mchunked\u001b[49m\u001b[38;5;241;43m=\u001b[39;49m\u001b[43mchunked\u001b[49m\u001b[43m,\u001b[49m\n\u001b[1;32m    679\u001b[0m \u001b[43m    \u001b[49m\u001b[43m)\u001b[49m\n\u001b[1;32m    681\u001b[0m \u001b[38;5;28;01mexcept\u001b[39;00m (ProtocolError, \u001b[38;5;167;01mOSError\u001b[39;00m) \u001b[38;5;28;01mas\u001b[39;00m err:\n\u001b[1;32m    682\u001b[0m     \u001b[38;5;28;01mraise\u001b[39;00m \u001b[38;5;167;01mConnectionError\u001b[39;00m(err, request\u001b[38;5;241m=\u001b[39mrequest)\n",
      "File \u001b[0;32m~/.pyenv/versions/3.12.9/envs/bee-minimal/lib/python3.12/site-packages/urllib3/connectionpool.py:787\u001b[0m, in \u001b[0;36mHTTPConnectionPool.urlopen\u001b[0;34m(self, method, url, body, headers, retries, redirect, assert_same_host, timeout, pool_timeout, release_conn, chunked, body_pos, preload_content, decode_content, **response_kw)\u001b[0m\n\u001b[1;32m    784\u001b[0m response_conn \u001b[38;5;241m=\u001b[39m conn \u001b[38;5;28;01mif\u001b[39;00m \u001b[38;5;129;01mnot\u001b[39;00m release_conn \u001b[38;5;28;01melse\u001b[39;00m \u001b[38;5;28;01mNone\u001b[39;00m\n\u001b[1;32m    786\u001b[0m \u001b[38;5;66;03m# Make the request on the HTTPConnection object\u001b[39;00m\n\u001b[0;32m--> 787\u001b[0m response \u001b[38;5;241m=\u001b[39m \u001b[38;5;28;43mself\u001b[39;49m\u001b[38;5;241;43m.\u001b[39;49m\u001b[43m_make_request\u001b[49m\u001b[43m(\u001b[49m\n\u001b[1;32m    788\u001b[0m \u001b[43m    \u001b[49m\u001b[43mconn\u001b[49m\u001b[43m,\u001b[49m\n\u001b[1;32m    789\u001b[0m \u001b[43m    \u001b[49m\u001b[43mmethod\u001b[49m\u001b[43m,\u001b[49m\n\u001b[1;32m    790\u001b[0m \u001b[43m    \u001b[49m\u001b[43murl\u001b[49m\u001b[43m,\u001b[49m\n\u001b[1;32m    791\u001b[0m \u001b[43m    \u001b[49m\u001b[43mtimeout\u001b[49m\u001b[38;5;241;43m=\u001b[39;49m\u001b[43mtimeout_obj\u001b[49m\u001b[43m,\u001b[49m\n\u001b[1;32m    792\u001b[0m \u001b[43m    \u001b[49m\u001b[43mbody\u001b[49m\u001b[38;5;241;43m=\u001b[39;49m\u001b[43mbody\u001b[49m\u001b[43m,\u001b[49m\n\u001b[1;32m    793\u001b[0m \u001b[43m    \u001b[49m\u001b[43mheaders\u001b[49m\u001b[38;5;241;43m=\u001b[39;49m\u001b[43mheaders\u001b[49m\u001b[43m,\u001b[49m\n\u001b[1;32m    794\u001b[0m \u001b[43m    \u001b[49m\u001b[43mchunked\u001b[49m\u001b[38;5;241;43m=\u001b[39;49m\u001b[43mchunked\u001b[49m\u001b[43m,\u001b[49m\n\u001b[1;32m    795\u001b[0m \u001b[43m    \u001b[49m\u001b[43mretries\u001b[49m\u001b[38;5;241;43m=\u001b[39;49m\u001b[43mretries\u001b[49m\u001b[43m,\u001b[49m\n\u001b[1;32m    796\u001b[0m \u001b[43m    \u001b[49m\u001b[43mresponse_conn\u001b[49m\u001b[38;5;241;43m=\u001b[39;49m\u001b[43mresponse_conn\u001b[49m\u001b[43m,\u001b[49m\n\u001b[1;32m    797\u001b[0m \u001b[43m    \u001b[49m\u001b[43mpreload_content\u001b[49m\u001b[38;5;241;43m=\u001b[39;49m\u001b[43mpreload_content\u001b[49m\u001b[43m,\u001b[49m\n\u001b[1;32m    798\u001b[0m \u001b[43m    \u001b[49m\u001b[43mdecode_content\u001b[49m\u001b[38;5;241;43m=\u001b[39;49m\u001b[43mdecode_content\u001b[49m\u001b[43m,\u001b[49m\n\u001b[1;32m    799\u001b[0m \u001b[43m    \u001b[49m\u001b[38;5;241;43m*\u001b[39;49m\u001b[38;5;241;43m*\u001b[39;49m\u001b[43mresponse_kw\u001b[49m\u001b[43m,\u001b[49m\n\u001b[1;32m    800\u001b[0m \u001b[43m\u001b[49m\u001b[43m)\u001b[49m\n\u001b[1;32m    802\u001b[0m \u001b[38;5;66;03m# Everything went great!\u001b[39;00m\n\u001b[1;32m    803\u001b[0m clean_exit \u001b[38;5;241m=\u001b[39m \u001b[38;5;28;01mTrue\u001b[39;00m\n",
      "File \u001b[0;32m~/.pyenv/versions/3.12.9/envs/bee-minimal/lib/python3.12/site-packages/urllib3/connectionpool.py:534\u001b[0m, in \u001b[0;36mHTTPConnectionPool._make_request\u001b[0;34m(self, conn, method, url, body, headers, retries, timeout, chunked, response_conn, preload_content, decode_content, enforce_content_length)\u001b[0m\n\u001b[1;32m    532\u001b[0m \u001b[38;5;66;03m# Receive the response from the server\u001b[39;00m\n\u001b[1;32m    533\u001b[0m \u001b[38;5;28;01mtry\u001b[39;00m:\n\u001b[0;32m--> 534\u001b[0m     response \u001b[38;5;241m=\u001b[39m \u001b[43mconn\u001b[49m\u001b[38;5;241;43m.\u001b[39;49m\u001b[43mgetresponse\u001b[49m\u001b[43m(\u001b[49m\u001b[43m)\u001b[49m\n\u001b[1;32m    535\u001b[0m \u001b[38;5;28;01mexcept\u001b[39;00m (BaseSSLError, \u001b[38;5;167;01mOSError\u001b[39;00m) \u001b[38;5;28;01mas\u001b[39;00m e:\n\u001b[1;32m    536\u001b[0m     \u001b[38;5;28mself\u001b[39m\u001b[38;5;241m.\u001b[39m_raise_timeout(err\u001b[38;5;241m=\u001b[39me, url\u001b[38;5;241m=\u001b[39murl, timeout_value\u001b[38;5;241m=\u001b[39mread_timeout)\n",
      "File \u001b[0;32m~/.pyenv/versions/3.12.9/envs/bee-minimal/lib/python3.12/site-packages/urllib3/connection.py:516\u001b[0m, in \u001b[0;36mHTTPConnection.getresponse\u001b[0;34m(self)\u001b[0m\n\u001b[1;32m    513\u001b[0m _shutdown \u001b[38;5;241m=\u001b[39m \u001b[38;5;28mgetattr\u001b[39m(\u001b[38;5;28mself\u001b[39m\u001b[38;5;241m.\u001b[39msock, \u001b[38;5;124m\"\u001b[39m\u001b[38;5;124mshutdown\u001b[39m\u001b[38;5;124m\"\u001b[39m, \u001b[38;5;28;01mNone\u001b[39;00m)\n\u001b[1;32m    515\u001b[0m \u001b[38;5;66;03m# Get the response from http.client.HTTPConnection\u001b[39;00m\n\u001b[0;32m--> 516\u001b[0m httplib_response \u001b[38;5;241m=\u001b[39m \u001b[38;5;28;43msuper\u001b[39;49m\u001b[43m(\u001b[49m\u001b[43m)\u001b[49m\u001b[38;5;241;43m.\u001b[39;49m\u001b[43mgetresponse\u001b[49m\u001b[43m(\u001b[49m\u001b[43m)\u001b[49m\n\u001b[1;32m    518\u001b[0m \u001b[38;5;28;01mtry\u001b[39;00m:\n\u001b[1;32m    519\u001b[0m     assert_header_parsing(httplib_response\u001b[38;5;241m.\u001b[39mmsg)\n",
      "File \u001b[0;32m~/.pyenv/versions/3.12.9/lib/python3.12/http/client.py:1430\u001b[0m, in \u001b[0;36mHTTPConnection.getresponse\u001b[0;34m(self)\u001b[0m\n\u001b[1;32m   1428\u001b[0m \u001b[38;5;28;01mtry\u001b[39;00m:\n\u001b[1;32m   1429\u001b[0m     \u001b[38;5;28;01mtry\u001b[39;00m:\n\u001b[0;32m-> 1430\u001b[0m         \u001b[43mresponse\u001b[49m\u001b[38;5;241;43m.\u001b[39;49m\u001b[43mbegin\u001b[49m\u001b[43m(\u001b[49m\u001b[43m)\u001b[49m\n\u001b[1;32m   1431\u001b[0m     \u001b[38;5;28;01mexcept\u001b[39;00m \u001b[38;5;167;01mConnectionError\u001b[39;00m:\n\u001b[1;32m   1432\u001b[0m         \u001b[38;5;28mself\u001b[39m\u001b[38;5;241m.\u001b[39mclose()\n",
      "File \u001b[0;32m~/.pyenv/versions/3.12.9/lib/python3.12/http/client.py:331\u001b[0m, in \u001b[0;36mHTTPResponse.begin\u001b[0;34m(self)\u001b[0m\n\u001b[1;32m    329\u001b[0m \u001b[38;5;66;03m# read until we get a non-100 response\u001b[39;00m\n\u001b[1;32m    330\u001b[0m \u001b[38;5;28;01mwhile\u001b[39;00m \u001b[38;5;28;01mTrue\u001b[39;00m:\n\u001b[0;32m--> 331\u001b[0m     version, status, reason \u001b[38;5;241m=\u001b[39m \u001b[38;5;28;43mself\u001b[39;49m\u001b[38;5;241;43m.\u001b[39;49m\u001b[43m_read_status\u001b[49m\u001b[43m(\u001b[49m\u001b[43m)\u001b[49m\n\u001b[1;32m    332\u001b[0m     \u001b[38;5;28;01mif\u001b[39;00m status \u001b[38;5;241m!=\u001b[39m CONTINUE:\n\u001b[1;32m    333\u001b[0m         \u001b[38;5;28;01mbreak\u001b[39;00m\n",
      "File \u001b[0;32m~/.pyenv/versions/3.12.9/lib/python3.12/http/client.py:292\u001b[0m, in \u001b[0;36mHTTPResponse._read_status\u001b[0;34m(self)\u001b[0m\n\u001b[1;32m    291\u001b[0m \u001b[38;5;28;01mdef\u001b[39;00m\u001b[38;5;250m \u001b[39m\u001b[38;5;21m_read_status\u001b[39m(\u001b[38;5;28mself\u001b[39m):\n\u001b[0;32m--> 292\u001b[0m     line \u001b[38;5;241m=\u001b[39m \u001b[38;5;28mstr\u001b[39m(\u001b[38;5;28;43mself\u001b[39;49m\u001b[38;5;241;43m.\u001b[39;49m\u001b[43mfp\u001b[49m\u001b[38;5;241;43m.\u001b[39;49m\u001b[43mreadline\u001b[49m\u001b[43m(\u001b[49m\u001b[43m_MAXLINE\u001b[49m\u001b[43m \u001b[49m\u001b[38;5;241;43m+\u001b[39;49m\u001b[43m \u001b[49m\u001b[38;5;241;43m1\u001b[39;49m\u001b[43m)\u001b[49m, \u001b[38;5;124m\"\u001b[39m\u001b[38;5;124miso-8859-1\u001b[39m\u001b[38;5;124m\"\u001b[39m)\n\u001b[1;32m    293\u001b[0m     \u001b[38;5;28;01mif\u001b[39;00m \u001b[38;5;28mlen\u001b[39m(line) \u001b[38;5;241m>\u001b[39m _MAXLINE:\n\u001b[1;32m    294\u001b[0m         \u001b[38;5;28;01mraise\u001b[39;00m LineTooLong(\u001b[38;5;124m\"\u001b[39m\u001b[38;5;124mstatus line\u001b[39m\u001b[38;5;124m\"\u001b[39m)\n",
      "File \u001b[0;32m~/.pyenv/versions/3.12.9/lib/python3.12/socket.py:720\u001b[0m, in \u001b[0;36mSocketIO.readinto\u001b[0;34m(self, b)\u001b[0m\n\u001b[1;32m    718\u001b[0m \u001b[38;5;28;01mwhile\u001b[39;00m \u001b[38;5;28;01mTrue\u001b[39;00m:\n\u001b[1;32m    719\u001b[0m     \u001b[38;5;28;01mtry\u001b[39;00m:\n\u001b[0;32m--> 720\u001b[0m         \u001b[38;5;28;01mreturn\u001b[39;00m \u001b[38;5;28;43mself\u001b[39;49m\u001b[38;5;241;43m.\u001b[39;49m\u001b[43m_sock\u001b[49m\u001b[38;5;241;43m.\u001b[39;49m\u001b[43mrecv_into\u001b[49m\u001b[43m(\u001b[49m\u001b[43mb\u001b[49m\u001b[43m)\u001b[49m\n\u001b[1;32m    721\u001b[0m     \u001b[38;5;28;01mexcept\u001b[39;00m timeout:\n\u001b[1;32m    722\u001b[0m         \u001b[38;5;28mself\u001b[39m\u001b[38;5;241m.\u001b[39m_timeout_occurred \u001b[38;5;241m=\u001b[39m \u001b[38;5;28;01mTrue\u001b[39;00m\n",
      "File \u001b[0;32m~/.pyenv/versions/3.12.9/lib/python3.12/ssl.py:1251\u001b[0m, in \u001b[0;36mSSLSocket.recv_into\u001b[0;34m(self, buffer, nbytes, flags)\u001b[0m\n\u001b[1;32m   1247\u001b[0m     \u001b[38;5;28;01mif\u001b[39;00m flags \u001b[38;5;241m!=\u001b[39m \u001b[38;5;241m0\u001b[39m:\n\u001b[1;32m   1248\u001b[0m         \u001b[38;5;28;01mraise\u001b[39;00m \u001b[38;5;167;01mValueError\u001b[39;00m(\n\u001b[1;32m   1249\u001b[0m           \u001b[38;5;124m\"\u001b[39m\u001b[38;5;124mnon-zero flags not allowed in calls to recv_into() on \u001b[39m\u001b[38;5;132;01m%s\u001b[39;00m\u001b[38;5;124m\"\u001b[39m \u001b[38;5;241m%\u001b[39m\n\u001b[1;32m   1250\u001b[0m           \u001b[38;5;28mself\u001b[39m\u001b[38;5;241m.\u001b[39m\u001b[38;5;18m__class__\u001b[39m)\n\u001b[0;32m-> 1251\u001b[0m     \u001b[38;5;28;01mreturn\u001b[39;00m \u001b[38;5;28;43mself\u001b[39;49m\u001b[38;5;241;43m.\u001b[39;49m\u001b[43mread\u001b[49m\u001b[43m(\u001b[49m\u001b[43mnbytes\u001b[49m\u001b[43m,\u001b[49m\u001b[43m \u001b[49m\u001b[43mbuffer\u001b[49m\u001b[43m)\u001b[49m\n\u001b[1;32m   1252\u001b[0m \u001b[38;5;28;01melse\u001b[39;00m:\n\u001b[1;32m   1253\u001b[0m     \u001b[38;5;28;01mreturn\u001b[39;00m \u001b[38;5;28msuper\u001b[39m()\u001b[38;5;241m.\u001b[39mrecv_into(buffer, nbytes, flags)\n",
      "File \u001b[0;32m~/.pyenv/versions/3.12.9/lib/python3.12/ssl.py:1103\u001b[0m, in \u001b[0;36mSSLSocket.read\u001b[0;34m(self, len, buffer)\u001b[0m\n\u001b[1;32m   1101\u001b[0m \u001b[38;5;28;01mtry\u001b[39;00m:\n\u001b[1;32m   1102\u001b[0m     \u001b[38;5;28;01mif\u001b[39;00m buffer \u001b[38;5;129;01mis\u001b[39;00m \u001b[38;5;129;01mnot\u001b[39;00m \u001b[38;5;28;01mNone\u001b[39;00m:\n\u001b[0;32m-> 1103\u001b[0m         \u001b[38;5;28;01mreturn\u001b[39;00m \u001b[38;5;28;43mself\u001b[39;49m\u001b[38;5;241;43m.\u001b[39;49m\u001b[43m_sslobj\u001b[49m\u001b[38;5;241;43m.\u001b[39;49m\u001b[43mread\u001b[49m\u001b[43m(\u001b[49m\u001b[38;5;28;43mlen\u001b[39;49m\u001b[43m,\u001b[49m\u001b[43m \u001b[49m\u001b[43mbuffer\u001b[49m\u001b[43m)\u001b[49m\n\u001b[1;32m   1104\u001b[0m     \u001b[38;5;28;01melse\u001b[39;00m:\n\u001b[1;32m   1105\u001b[0m         \u001b[38;5;28;01mreturn\u001b[39;00m \u001b[38;5;28mself\u001b[39m\u001b[38;5;241m.\u001b[39m_sslobj\u001b[38;5;241m.\u001b[39mread(\u001b[38;5;28mlen\u001b[39m)\n",
      "\u001b[0;31mKeyboardInterrupt\u001b[0m: "
     ]
    }
   ],
   "source": [
    "for i, row in name_loc_df.iterrows():\n",
    "    try:\n",
    "        loc = geo.reverse((row[\"lat\"], row[\"lon\"]), language=\"en\", exactly_one=True)\n",
    "        if loc and \"address\" in loc.raw:\n",
    "            addr = loc.raw[\"address\"]\n",
    "            name_loc_df.loc[i, \"country\"] = addr.get(\"country\")\n",
    "            name_loc_df.loc[i, \"country_code\"] = (addr.get(\"country_code\") or \"\").upper()\n",
    "    except Exception:\n",
    "        pass\n",
    "    time.sleep(1)"
   ]
  },
  {
   "cell_type": "markdown",
   "id": "fbbed940",
   "metadata": {},
   "source": [
    "# Train, Test, Val Split"
   ]
  },
  {
   "cell_type": "code",
   "execution_count": null,
   "id": "bc4af433",
   "metadata": {},
   "outputs": [
    {
     "name": "stdout",
     "output_type": "stream",
     "text": [
      "Processed others: 5922 train, 1270 val, 1270 test images\n",
      "Processed bumble_bees: 5922 train, 1270 val, 1270 test images\n",
      "Processed lookalikes: 5922 train, 1270 val, 1270 test images\n",
      "\n",
      "Reorganization complete!\n",
      "New directory structure created at: ../raw_data/bumble_ternary\n"
     ]
    }
   ],
   "source": [
    "import os\n",
    "import shutil\n",
    "import numpy as np\n",
    "from sklearn.model_selection import train_test_split\n",
    "\n",
    "def reorganize_dataset(source_dir, target_dir, val_ratio=0.15, test_ratio=0.15, random_seed=42):\n",
    "    \"\"\"\n",
    "    Reorganizes image dataset into train/val/test directories.\n",
    "\n",
    "    Args:\n",
    "        source_dir: Path to the directory containing class subfolders\n",
    "        target_dir: Path where the new directory structure will be created\n",
    "        val_ratio: Proportion of data for validation (default: 0.15)\n",
    "        test_ratio: Proportion of data for testing (default: 0.15)\n",
    "        random_seed: Random seed for reproducibility\n",
    "    \"\"\"\n",
    "    # Create target directories\n",
    "    os.makedirs(os.path.join(target_dir, 'train'), exist_ok=True)\n",
    "    os.makedirs(os.path.join(target_dir, 'val'), exist_ok=True)\n",
    "    os.makedirs(os.path.join(target_dir, 'test'), exist_ok=True)\n",
    "\n",
    "    # Get list of all class directories\n",
    "    class_dirs = [d for d in os.listdir(source_dir)\n",
    "                 if os.path.isdir(os.path.join(source_dir, d))]\n",
    "\n",
    "    for class_dir in class_dirs:\n",
    "        # Create class subdirectories in train/val/test\n",
    "        os.makedirs(os.path.join(target_dir, 'train', class_dir), exist_ok=True)\n",
    "        os.makedirs(os.path.join(target_dir, 'val', class_dir), exist_ok=True)\n",
    "        os.makedirs(os.path.join(target_dir, 'test', class_dir), exist_ok=True)\n",
    "\n",
    "        # Get all image files for this class\n",
    "        source_class_dir = os.path.join(source_dir, class_dir)\n",
    "        images = [f for f in os.listdir(source_class_dir)\n",
    "                 if os.path.isfile(os.path.join(source_class_dir, f))]\n",
    "\n",
    "        # Split into train, val, test\n",
    "        train_val, test = train_test_split(\n",
    "            images, test_size=test_ratio, random_state=random_seed)\n",
    "        train, val = train_test_split(\n",
    "            train_val, test_size=val_ratio/(1-test_ratio), random_state=random_seed)\n",
    "\n",
    "        # Copy files to their new locations\n",
    "        for img in train:\n",
    "            src = os.path.join(source_class_dir, img)\n",
    "            dst = os.path.join(target_dir, 'train', class_dir, img)\n",
    "            shutil.copy2(src, dst)\n",
    "\n",
    "        for img in val:\n",
    "            src = os.path.join(source_class_dir, img)\n",
    "            dst = os.path.join(target_dir, 'val', class_dir, img)\n",
    "            shutil.copy2(src, dst)\n",
    "\n",
    "        for img in test:\n",
    "            src = os.path.join(source_class_dir, img)\n",
    "            dst = os.path.join(target_dir, 'test', class_dir, img)\n",
    "            shutil.copy2(src, dst)\n",
    "\n",
    "        print(f\"Processed {class_dir}: {len(train)} train, {len(val)} val, {len(test)} test images\")\n",
    "\n",
    "    print(\"\\nReorganization complete!\")\n",
    "    print(f\"New directory structure created at: {target_dir}\")\n",
    "\n",
    "# Example usage\n",
    "if __name__ == \"__main__\":\n",
    "    SOURCE_DIR = \"../raw_data/bumble_ternary_unsplit\"  # Your current directory with class subfolders\n",
    "    TARGET_DIR = \"../raw_data/bumble_ternary\"  # Where the new structure will be created\n",
    "\n",
    "    reorganize_dataset(\n",
    "        source_dir=SOURCE_DIR,\n",
    "        target_dir=TARGET_DIR,\n",
    "        val_ratio=0.15,  # 15% for validation\n",
    "        test_ratio=0.15,  # 15% for testing\n",
    "        random_seed=42    # For reproducibility\n",
    "    )"
   ]
  },
  {
   "cell_type": "markdown",
   "id": "c14585c0",
   "metadata": {},
   "source": [
    "# Pipeline Test"
   ]
  },
  {
   "cell_type": "code",
   "execution_count": 28,
   "id": "82c56f1c",
   "metadata": {},
   "outputs": [
    {
     "name": "stdout",
     "output_type": "stream",
     "text": [
      "=== Bumblebee image ===\n",
      "{'stage': 'subspecies_high_conf', 'bumblebee_prob': 0.7612341046333313, 'prediction': {'class_name': 'Yellow-faced_Bumble_Bee', 'prob': 0.9200544953346252}, 'context_species_in_country': [{'class_name': \"Barbut's_Cuckoo_Bumble_bee\", 'common_name': \"Barbut's Cuckoo Bumble bee\", 'scientific_name': 'Bombus barbutellus'}, {'class_name': 'Bohemian_Cuckoo_Bumble_bee', 'common_name': 'Bohemian Cuckoo Bumble bee', 'scientific_name': 'Bombus bohemicus'}, {'class_name': 'British_Buff-tailed_Bumblebee', 'common_name': 'British Buff-tailed Bumblebee', 'scientific_name': 'Bombus terrestris audax'}, {'class_name': 'Brown-banded_Carder-Bumble_bee', 'common_name': 'Brown-banded Carder-Bumble bee', 'scientific_name': 'Bombus humilis'}, {'class_name': 'Buff-tailed_Bumble_Bee', 'common_name': 'Buff-tailed Bumble Bee', 'scientific_name': 'Bombus terrestris'}, {'class_name': 'Common_Carder_Bumble_Bee', 'common_name': 'Common Carder Bumble Bee', 'scientific_name': 'Bombus pascuorum'}, {'class_name': 'Cryptic_Bumble_Bee', 'common_name': 'Cryptic Bumble Bee', 'scientific_name': 'Bombus cryptarum'}, {'class_name': 'Early_Bumble_Bee', 'common_name': 'Early Bumble Bee', 'scientific_name': 'Bombus pratorum'}, {'class_name': 'Field_Cuckoo_Bumble_bee', 'common_name': 'Field Cuckoo Bumble bee', 'scientific_name': 'Bombus campestris'}, {'class_name': 'Forest_Cuckoo_Bumble_bee', 'common_name': 'Forest Cuckoo Bumble bee', 'scientific_name': 'Bombus sylvestris'}, {'class_name': 'Garden_Bumble_Bee', 'common_name': 'Garden Bumble Bee', 'scientific_name': 'Bombus hortorum'}, {'class_name': 'Heath_Bumble_Bee', 'common_name': 'Heath Bumble Bee', 'scientific_name': 'Bombus jonellus'}, {'class_name': 'Hill_Cuckoo_Bumble_bee', 'common_name': 'Hill Cuckoo Bumble bee', 'scientific_name': 'Bombus rupestris'}, {'class_name': 'Large_Garden_Bumble_Bee', 'common_name': 'Large Garden Bumble Bee', 'scientific_name': 'Bombus ruderatus'}, {'class_name': 'Lucorum-group_Bumble_Bees', 'common_name': 'Lucorum-group Bumble Bees', 'scientific_name': 'Bombus lucorum'}, {'class_name': 'Moss_Carder_bee', 'common_name': 'Moss Carder bee', 'scientific_name': 'Bombus muscorum'}, {'class_name': 'Mountain_Bumble_Bee', 'common_name': 'Mountain Bumble Bee', 'scientific_name': 'Bombus monticola'}, {'class_name': 'Red-shanked_Bumble_Bee', 'common_name': 'Red-shanked Bumble Bee', 'scientific_name': 'Bombus ruderarius'}, {'class_name': 'Red-tailed_Bumble_Bee', 'common_name': 'Red-tailed Bumble Bee', 'scientific_name': 'Bombus lapidarius'}, {'class_name': 'Shrill_Carder-Bumble_bee', 'common_name': 'Shrill Carder-Bumble bee', 'scientific_name': 'Bombus sylvarum'}, {'class_name': 'Tree_Bumble_Bee', 'common_name': 'Tree Bumble Bee', 'scientific_name': 'Bombus hypnorum'}, {'class_name': 'Vestal_Cuckoo_Bumble_bee', 'common_name': 'Vestal Cuckoo Bumble bee', 'scientific_name': 'Bombus vestalis'}, {'class_name': 'White-tailed_Bumble_Bee', 'common_name': 'White-tailed Bumble Bee', 'scientific_name': 'Bombus lucorum'}]}\n",
      "\n",
      "=== Non-bumblebee image ===\n",
      "{'stage': 'no_bumblebee_detected', 'bumblebee_prob': 1.1648227521421362e-11, 'threshold': 0.75, 'context_species_in_country': [{'class_name': 'Bohemian_Cuckoo_Bumble_bee', 'common_name': 'Bohemian Cuckoo Bumble bee', 'scientific_name': 'Bombus bohemicus'}, {'class_name': 'Broken-belted_Bumble_Bee', 'common_name': 'Broken-belted Bumble Bee', 'scientific_name': 'Bombus soroeensis'}, {'class_name': 'Brown-banded_Carder-Bumble_bee', 'common_name': 'Brown-banded Carder-Bumble bee', 'scientific_name': 'Bombus humilis'}, {'class_name': 'Buff-tailed_Bumble_Bee', 'common_name': 'Buff-tailed Bumble Bee', 'scientific_name': 'Bombus terrestris'}, {'class_name': 'Common_Carder_Bumble_Bee', 'common_name': 'Common Carder Bumble Bee', 'scientific_name': 'Bombus pascuorum'}, {'class_name': 'Cousinly_Bumble_Bee', 'common_name': 'Cousinly Bumble Bee', 'scientific_name': 'Bombus consobrinus'}, {'class_name': 'Cryptic_Bumble_Bee', 'common_name': 'Cryptic Bumble Bee', 'scientific_name': 'Bombus cryptarum'}, {'class_name': \"Cullum's_Bumble_Bee\", 'common_name': \"Cullum's Bumble Bee\", 'scientific_name': 'Bombus cullumanus'}, {'class_name': 'Early_Bumble_Bee', 'common_name': 'Early Bumble Bee', 'scientific_name': 'Bombus pratorum'}, {'class_name': 'Far_Eastern_Bumble_Bee', 'common_name': 'Far Eastern Bumble Bee', 'scientific_name': 'Bombus patagiatus'}, {'class_name': 'Field_Cuckoo_Bumble_bee', 'common_name': 'Field Cuckoo Bumble bee', 'scientific_name': 'Bombus campestris'}, {'class_name': 'Forest_Cuckoo_Bumble_bee', 'common_name': 'Forest Cuckoo Bumble bee', 'scientific_name': 'Bombus sylvestris'}, {'class_name': 'Garden_Bumble_Bee', 'common_name': 'Garden Bumble Bee', 'scientific_name': 'Bombus hortorum'}, {'class_name': 'Great_Yellow_Bumble_Bee', 'common_name': 'Great Yellow Bumble Bee', 'scientific_name': 'Bombus distinguendus'}, {'class_name': 'Hill_Cuckoo_Bumble_bee', 'common_name': 'Hill Cuckoo Bumble bee', 'scientific_name': 'Bombus rupestris'}, {'class_name': 'Lucorum-group_Bumble_Bees', 'common_name': 'Lucorum-group Bumble Bees', 'scientific_name': 'Bombus lucorum'}, {'class_name': 'Norwegian_Cuckoo_Bumble_bee', 'common_name': 'Norwegian Cuckoo Bumble bee', 'scientific_name': 'Bombus norvegicus'}, {'class_name': 'Red-shanked_Bumble_Bee', 'common_name': 'Red-shanked Bumble Bee', 'scientific_name': 'Bombus ruderarius'}, {'class_name': 'Red-tailed_Bumble_Bee', 'common_name': 'Red-tailed Bumble Bee', 'scientific_name': 'Bombus lapidarius'}, {'class_name': 'Sand-coloured_Carder_Bumble_Bee', 'common_name': 'Sand-coloured Carder Bumble Bee', 'scientific_name': 'Bombus veteranus'}, {'class_name': \"Schrenck's_Bumble_Bee\", 'common_name': \"Schrenck's Bumble Bee\", 'scientific_name': 'Bombus schrencki'}, {'class_name': \"Semenov's_Bumble_Bee\", 'common_name': \"Semenov's Bumble Bee\", 'scientific_name': 'Bombus semenoviellus'}, {'class_name': 'Shrill_Carder-Bumble_bee', 'common_name': 'Shrill Carder-Bumble bee', 'scientific_name': 'Bombus sylvarum'}, {'class_name': \"Sichel's_Bumble_Bee\", 'common_name': \"Sichel's Bumble Bee\", 'scientific_name': 'Bombus sichelii'}, {'class_name': 'Sporadic_Bumble_Bee', 'common_name': 'Sporadic Bumble Bee', 'scientific_name': 'Bombus sporadicus'}, {'class_name': 'Tree_Bumble_Bee', 'common_name': 'Tree Bumble Bee', 'scientific_name': 'Bombus hypnorum'}, {'class_name': 'Vestal_Cuckoo_Bumble_bee', 'common_name': 'Vestal Cuckoo Bumble bee', 'scientific_name': 'Bombus vestalis'}, {'class_name': 'White-tailed_Bumble_Bee', 'common_name': 'White-tailed Bumble Bee', 'scientific_name': 'Bombus lucorum'}]}\n"
     ]
    }
   ],
   "source": [
    "from bee_tector.pipeline import run_pipeline\n",
    "from bee_tector.config import SUBSPECIES_DATA_DIR, DETECTOR_DATA_DIR\n",
    "\n",
    "test_img_bee = DETECTOR_DATA_DIR / \"test\" / \"bumble_bees\" / \"535016645.jpg\"\n",
    "test_img_not_bee = DETECTOR_DATA_DIR / \"test\" / \"others\" / \"00022.jpg\"\n",
    "\n",
    "print(\"=== Bumblebee image ===\")\n",
    "result_bee = run_pipeline(str(test_img_bee), country_code=\"GB\")\n",
    "print(result_bee)\n",
    "\n",
    "print(\"\\n=== Non-bumblebee image ===\")\n",
    "result_not_bee = run_pipeline(str(test_img_not_bee), country_code=\"RU\")\n",
    "print(result_not_bee)\n"
   ]
  },
  {
   "cell_type": "code",
   "execution_count": 29,
   "id": "aba6ff78",
   "metadata": {},
   "outputs": [
    {
     "data": {
      "text/plain": [
       "{'stage': 'subspecies_high_conf',\n",
       " 'bumblebee_prob': 0.7612341046333313,\n",
       " 'prediction': {'class_name': 'Yellow-faced_Bumble_Bee',\n",
       "  'prob': 0.9200544953346252},\n",
       " 'context_species_in_country': [{'class_name': \"Barbut's_Cuckoo_Bumble_bee\",\n",
       "   'common_name': \"Barbut's Cuckoo Bumble bee\",\n",
       "   'scientific_name': 'Bombus barbutellus'},\n",
       "  {'class_name': 'Bohemian_Cuckoo_Bumble_bee',\n",
       "   'common_name': 'Bohemian Cuckoo Bumble bee',\n",
       "   'scientific_name': 'Bombus bohemicus'},\n",
       "  {'class_name': 'British_Buff-tailed_Bumblebee',\n",
       "   'common_name': 'British Buff-tailed Bumblebee',\n",
       "   'scientific_name': 'Bombus terrestris audax'},\n",
       "  {'class_name': 'Brown-banded_Carder-Bumble_bee',\n",
       "   'common_name': 'Brown-banded Carder-Bumble bee',\n",
       "   'scientific_name': 'Bombus humilis'},\n",
       "  {'class_name': 'Buff-tailed_Bumble_Bee',\n",
       "   'common_name': 'Buff-tailed Bumble Bee',\n",
       "   'scientific_name': 'Bombus terrestris'},\n",
       "  {'class_name': 'Common_Carder_Bumble_Bee',\n",
       "   'common_name': 'Common Carder Bumble Bee',\n",
       "   'scientific_name': 'Bombus pascuorum'},\n",
       "  {'class_name': 'Cryptic_Bumble_Bee',\n",
       "   'common_name': 'Cryptic Bumble Bee',\n",
       "   'scientific_name': 'Bombus cryptarum'},\n",
       "  {'class_name': 'Early_Bumble_Bee',\n",
       "   'common_name': 'Early Bumble Bee',\n",
       "   'scientific_name': 'Bombus pratorum'},\n",
       "  {'class_name': 'Field_Cuckoo_Bumble_bee',\n",
       "   'common_name': 'Field Cuckoo Bumble bee',\n",
       "   'scientific_name': 'Bombus campestris'},\n",
       "  {'class_name': 'Forest_Cuckoo_Bumble_bee',\n",
       "   'common_name': 'Forest Cuckoo Bumble bee',\n",
       "   'scientific_name': 'Bombus sylvestris'},\n",
       "  {'class_name': 'Garden_Bumble_Bee',\n",
       "   'common_name': 'Garden Bumble Bee',\n",
       "   'scientific_name': 'Bombus hortorum'},\n",
       "  {'class_name': 'Heath_Bumble_Bee',\n",
       "   'common_name': 'Heath Bumble Bee',\n",
       "   'scientific_name': 'Bombus jonellus'},\n",
       "  {'class_name': 'Hill_Cuckoo_Bumble_bee',\n",
       "   'common_name': 'Hill Cuckoo Bumble bee',\n",
       "   'scientific_name': 'Bombus rupestris'},\n",
       "  {'class_name': 'Large_Garden_Bumble_Bee',\n",
       "   'common_name': 'Large Garden Bumble Bee',\n",
       "   'scientific_name': 'Bombus ruderatus'},\n",
       "  {'class_name': 'Lucorum-group_Bumble_Bees',\n",
       "   'common_name': 'Lucorum-group Bumble Bees',\n",
       "   'scientific_name': 'Bombus lucorum'},\n",
       "  {'class_name': 'Moss_Carder_bee',\n",
       "   'common_name': 'Moss Carder bee',\n",
       "   'scientific_name': 'Bombus muscorum'},\n",
       "  {'class_name': 'Mountain_Bumble_Bee',\n",
       "   'common_name': 'Mountain Bumble Bee',\n",
       "   'scientific_name': 'Bombus monticola'},\n",
       "  {'class_name': 'Red-shanked_Bumble_Bee',\n",
       "   'common_name': 'Red-shanked Bumble Bee',\n",
       "   'scientific_name': 'Bombus ruderarius'},\n",
       "  {'class_name': 'Red-tailed_Bumble_Bee',\n",
       "   'common_name': 'Red-tailed Bumble Bee',\n",
       "   'scientific_name': 'Bombus lapidarius'},\n",
       "  {'class_name': 'Shrill_Carder-Bumble_bee',\n",
       "   'common_name': 'Shrill Carder-Bumble bee',\n",
       "   'scientific_name': 'Bombus sylvarum'},\n",
       "  {'class_name': 'Tree_Bumble_Bee',\n",
       "   'common_name': 'Tree Bumble Bee',\n",
       "   'scientific_name': 'Bombus hypnorum'},\n",
       "  {'class_name': 'Vestal_Cuckoo_Bumble_bee',\n",
       "   'common_name': 'Vestal Cuckoo Bumble bee',\n",
       "   'scientific_name': 'Bombus vestalis'},\n",
       "  {'class_name': 'White-tailed_Bumble_Bee',\n",
       "   'common_name': 'White-tailed Bumble Bee',\n",
       "   'scientific_name': 'Bombus lucorum'}]}"
      ]
     },
     "execution_count": 29,
     "metadata": {},
     "output_type": "execute_result"
    }
   ],
   "source": [
    "result_bee"
   ]
  },
  {
   "cell_type": "code",
   "execution_count": 4,
   "id": "87cc962b",
   "metadata": {},
   "outputs": [
    {
     "data": {
      "text/plain": [
       "{'stage': 'no_bumblebee_detected',\n",
       " 'bumblebee_prob': 1.1648227521421362e-11,\n",
       " 'threshold': 0.75,\n",
       " 'context_species_in_country': [{'class_name': 'Bohemian_Cuckoo_Bumble_bee',\n",
       "   'common_name': 'Bohemian Cuckoo Bumble bee',\n",
       "   'scientific_name': 'Bombus bohemicus'},\n",
       "  {'class_name': 'Broken-belted_Bumble_Bee',\n",
       "   'common_name': 'Broken-belted Bumble Bee',\n",
       "   'scientific_name': 'Bombus soroeensis'},\n",
       "  {'class_name': 'Brown-banded_Carder-Bumble_bee',\n",
       "   'common_name': 'Brown-banded Carder-Bumble bee',\n",
       "   'scientific_name': 'Bombus humilis'},\n",
       "  {'class_name': 'Buff-tailed_Bumble_Bee',\n",
       "   'common_name': 'Buff-tailed Bumble Bee',\n",
       "   'scientific_name': 'Bombus terrestris'},\n",
       "  {'class_name': 'Common_Carder_Bumble_Bee',\n",
       "   'common_name': 'Common Carder Bumble Bee',\n",
       "   'scientific_name': 'Bombus pascuorum'},\n",
       "  {'class_name': 'Cousinly_Bumble_Bee',\n",
       "   'common_name': 'Cousinly Bumble Bee',\n",
       "   'scientific_name': 'Bombus consobrinus'},\n",
       "  {'class_name': 'Cryptic_Bumble_Bee',\n",
       "   'common_name': 'Cryptic Bumble Bee',\n",
       "   'scientific_name': 'Bombus cryptarum'},\n",
       "  {'class_name': \"Cullum's_Bumble_Bee\",\n",
       "   'common_name': \"Cullum's Bumble Bee\",\n",
       "   'scientific_name': 'Bombus cullumanus'},\n",
       "  {'class_name': 'Early_Bumble_Bee',\n",
       "   'common_name': 'Early Bumble Bee',\n",
       "   'scientific_name': 'Bombus pratorum'},\n",
       "  {'class_name': 'Far_Eastern_Bumble_Bee',\n",
       "   'common_name': 'Far Eastern Bumble Bee',\n",
       "   'scientific_name': 'Bombus patagiatus'},\n",
       "  {'class_name': 'Field_Cuckoo_Bumble_bee',\n",
       "   'common_name': 'Field Cuckoo Bumble bee',\n",
       "   'scientific_name': 'Bombus campestris'},\n",
       "  {'class_name': 'Forest_Cuckoo_Bumble_bee',\n",
       "   'common_name': 'Forest Cuckoo Bumble bee',\n",
       "   'scientific_name': 'Bombus sylvestris'},\n",
       "  {'class_name': 'Garden_Bumble_Bee',\n",
       "   'common_name': 'Garden Bumble Bee',\n",
       "   'scientific_name': 'Bombus hortorum'},\n",
       "  {'class_name': 'Great_Yellow_Bumble_Bee',\n",
       "   'common_name': 'Great Yellow Bumble Bee',\n",
       "   'scientific_name': 'Bombus distinguendus'},\n",
       "  {'class_name': 'Hill_Cuckoo_Bumble_bee',\n",
       "   'common_name': 'Hill Cuckoo Bumble bee',\n",
       "   'scientific_name': 'Bombus rupestris'},\n",
       "  {'class_name': 'Lucorum-group_Bumble_Bees',\n",
       "   'common_name': 'Lucorum-group Bumble Bees',\n",
       "   'scientific_name': 'Bombus lucorum'},\n",
       "  {'class_name': 'Norwegian_Cuckoo_Bumble_bee',\n",
       "   'common_name': 'Norwegian Cuckoo Bumble bee',\n",
       "   'scientific_name': 'Bombus norvegicus'},\n",
       "  {'class_name': 'Red-shanked_Bumble_Bee',\n",
       "   'common_name': 'Red-shanked Bumble Bee',\n",
       "   'scientific_name': 'Bombus ruderarius'},\n",
       "  {'class_name': 'Red-tailed_Bumble_Bee',\n",
       "   'common_name': 'Red-tailed Bumble Bee',\n",
       "   'scientific_name': 'Bombus lapidarius'},\n",
       "  {'class_name': 'Sand-coloured_Carder_Bumble_Bee',\n",
       "   'common_name': 'Sand-coloured Carder Bumble Bee',\n",
       "   'scientific_name': 'Bombus veteranus'},\n",
       "  {'class_name': \"Schrenck's_Bumble_Bee\",\n",
       "   'common_name': \"Schrenck's Bumble Bee\",\n",
       "   'scientific_name': 'Bombus schrencki'},\n",
       "  {'class_name': \"Semenov's_Bumble_Bee\",\n",
       "   'common_name': \"Semenov's Bumble Bee\",\n",
       "   'scientific_name': 'Bombus semenoviellus'},\n",
       "  {'class_name': 'Shrill_Carder-Bumble_bee',\n",
       "   'common_name': 'Shrill Carder-Bumble bee',\n",
       "   'scientific_name': 'Bombus sylvarum'},\n",
       "  {'class_name': \"Sichel's_Bumble_Bee\",\n",
       "   'common_name': \"Sichel's Bumble Bee\",\n",
       "   'scientific_name': 'Bombus sichelii'},\n",
       "  {'class_name': 'Sporadic_Bumble_Bee',\n",
       "   'common_name': 'Sporadic Bumble Bee',\n",
       "   'scientific_name': 'Bombus sporadicus'},\n",
       "  {'class_name': 'Tree_Bumble_Bee',\n",
       "   'common_name': 'Tree Bumble Bee',\n",
       "   'scientific_name': 'Bombus hypnorum'},\n",
       "  {'class_name': 'Vestal_Cuckoo_Bumble_bee',\n",
       "   'common_name': 'Vestal Cuckoo Bumble bee',\n",
       "   'scientific_name': 'Bombus vestalis'},\n",
       "  {'class_name': 'White-tailed_Bumble_Bee',\n",
       "   'common_name': 'White-tailed Bumble Bee',\n",
       "   'scientific_name': 'Bombus lucorum'}]}"
      ]
     },
     "execution_count": 4,
     "metadata": {},
     "output_type": "execute_result"
    }
   ],
   "source": [
    "result_not_bee"
   ]
  },
  {
   "cell_type": "markdown",
   "id": "6f186dfc",
   "metadata": {},
   "source": [
    "# Picking the Thresholds"
   ]
  },
  {
   "cell_type": "code",
   "execution_count": 24,
   "id": "67044ac4",
   "metadata": {},
   "outputs": [
    {
     "data": {
      "image/png": "[encoded data removed]",
      "text/plain": [
       "<Figure size 1200x500 with 2 Axes>"
      ]
     },
     "metadata": {},
     "output_type": "display_data"
    }
   ],
   "source": [
    "# DETECTOR\n",
    "detector_test_dir = DETECTOR_DATA_DIR / \"test\"\n",
    "detector_scores = []\n",
    "\n",
    "for cls in os.listdir(detector_test_dir):\n",
    "    cls_dir = detector_test_dir / cls\n",
    "    if not cls_dir.is_dir():\n",
    "        continue\n",
    "    for img_file in os.listdir(cls_dir):\n",
    "        img_path = cls_dir / img_file\n",
    "        try:\n",
    "            x = preprocess_image(str(img_path))\n",
    "            res = predict_detector(x)\n",
    "            detector_scores.append((cls, res[\"probs\"][\"bumble_bees\"]))\n",
    "        except Exception as e:\n",
    "            print(f\"⚠️ Skipped {img_path}: {e}\")\n",
    "\n",
    "# SUBSPECIES\n",
    "subspecies_test_dir = SUBSPECIES_DATA_DIR / \"test\"\n",
    "subspecies_scores = []\n",
    "\n",
    "for cls in os.listdir(subspecies_test_dir):\n",
    "    cls_dir = subspecies_test_dir / cls\n",
    "    if not cls_dir.is_dir():\n",
    "        continue\n",
    "    for img_file in os.listdir(cls_dir):\n",
    "        img_path = cls_dir / img_file\n",
    "        try:\n",
    "            x = preprocess_image(str(img_path))\n",
    "            res = predict_subspecies(x)\n",
    "            subspecies_scores.append((cls, res[\"prob\"]))\n",
    "        except Exception as e:\n",
    "            print(f\"⚠️ Skipped {img_path}: {e}\")\n",
    "\n",
    "# PLOTS\n",
    "det_vals = [p for _, p in detector_scores]\n",
    "sub_vals = [p for _, p in subspecies_scores]\n",
    "\n",
    "plt.figure(figsize=(12, 5))\n",
    "\n",
    "plt.subplot(1, 2, 1)\n",
    "plt.hist(det_vals, bins=20, alpha=0.7, color=\"skyblue\")\n",
    "plt.axvline(0.75, color=\"red\", linestyle=\"--\", label=\"current threshold=0.75\")\n",
    "plt.title(\"Detector 'bumble_bees' probabilities\")\n",
    "plt.xlabel(\"Probability\")\n",
    "plt.ylabel(\"Count\")\n",
    "plt.legend()\n",
    "\n",
    "plt.subplot(1, 2, 2)\n",
    "plt.hist(sub_vals, bins=20, alpha=0.7, color=\"orange\")\n",
    "plt.axvline(0.75, color=\"red\", linestyle=\"--\", label=\"current threshold=0.75\")\n",
    "plt.title(\"Subspecies top-class probabilities\")\n",
    "plt.xlabel(\"Probability\")\n",
    "plt.ylabel(\"Count\")\n",
    "plt.legend()\n",
    "\n",
    "plt.tight_layout()\n",
    "plt.show()\n"
   ]
  },
  {
   "cell_type": "code",
   "execution_count": null,
   "id": "d0f5e85c",
   "metadata": {},
   "outputs": [],
   "source": []
  }
 ],
 "metadata": {
  "kernelspec": {
   "display_name": "bee-minimal",
   "language": "python",
   "name": "python3"
  },
  "language_info": {
   "codemirror_mode": {
    "name": "ipython",
    "version": 3
   },
   "file_extension": ".py",
   "mimetype": "text/x-python",
   "name": "python",
   "nbconvert_exporter": "python",
   "pygments_lexer": "ipython3",
   "version": "3.12.9"
  }
 },
 "nbformat": 4,
 "nbformat_minor": 5
}
