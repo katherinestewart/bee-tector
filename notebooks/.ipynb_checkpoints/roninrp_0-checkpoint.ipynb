{
 "cells": [
  {
   "cell_type": "markdown",
   "id": "cbdb7b33-fa89-47c1-8040-f402bbd15e8a",
   "metadata": {},
   "source": [
    "I say nee onto thee!"
   ]
  },
  {
   "cell_type": "code",
   "execution_count": null,
   "id": "e064d2b5-07c3-411c-9ab9-6df72aab6e60",
   "metadata": {},
   "outputs": [],
   "source": []
  }
 ],
 "metadata": {
  "kernelspec": {
   "display_name": "Python 3 (ipykernel)",
   "language": "python",
   "name": "python3"
  },
  "language_info": {
   "codemirror_mode": {
    "name": "ipython",
    "version": 3
   },
   "file_extension": ".py",
   "mimetype": "text/x-python",
   "name": "python",
   "nbconvert_exporter": "python",
   "pygments_lexer": "ipython3",
   "version": "3.8.10"
  }
 },
 "nbformat": 4,
 "nbformat_minor": 5
}
